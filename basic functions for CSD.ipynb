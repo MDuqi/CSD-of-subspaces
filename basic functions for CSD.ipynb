{
 "cells": [
  {
   "cell_type": "code",
   "execution_count": 1,
   "id": "c9514414",
   "metadata": {},
   "outputs": [],
   "source": [
    "\n",
    "using LinearAlgebra\n",
    "using GenericLinearAlgebra\n"
   ]
  },
  {
   "cell_type": "code",
   "execution_count": 2,
   "id": "5afeb2b2",
   "metadata": {},
   "outputs": [
    {
     "data": {
      "text/plain": [
       "complete_orthonormal (generic function with 1 method)"
      ]
     },
     "metadata": {},
     "output_type": "display_data"
    }
   ],
   "source": [
    "function complete_orthonormal(U::Matrix{Float64})\n",
    "    d, r = size(U)\n",
    "    r ≤ d || error(\"U deve ter no máximo d colunas\")\n",
    "\n",
    "    r == d && return zeros(Float64, d, 0)   # já completa\n",
    "\n",
    "    # Projeta vetores aleatórios no complemento de span(U)\n",
    "    Z = randn(Float64, d, d - r)\n",
    "    Z .-= U * (U' * Z)                      # remove componente em U\n",
    "\n",
    "    # QR fino garante ortonormalidade\n",
    "    C = Matrix(qr(Z).Q)                  # d × (d−r)\n",
    "    return C\n",
    "end"
   ]
  },
  {
   "cell_type": "code",
   "execution_count": 3,
   "id": "2cc3a2bb",
   "metadata": {},
   "outputs": [
    {
     "data": {
      "text/plain": [
       "build_csd_input_matrix (generic function with 1 method)"
      ]
     },
     "metadata": {},
     "output_type": "display_data"
    }
   ],
   "source": [
    "function build_csd_input_matrix(D1::Matrix{Float64}, D2::Matrix{Float64})\n",
    "    # Dimensões\n",
    "    m, d = size(D1)  # D1: m x d\n",
    "    n, _ = size(D2)  # D2: n x d\n",
    "\n",
    "    # Passo 1: QR de D1^T para obter base de R(D1) em R^d\n",
    "    Q1 = Matrix(qr(D1').Q)  # Q1 é d x m\n",
    "    R1 = Matrix(qr(D1').R)  # R1 é m x m\n",
    "\n",
    "    println(\"Q1: \", size(Q1))  # Debugging: verificar tamanho de Q1\n",
    "    println(\"R1: \", size(R1))  # Debugging: verificar tamanho de R1\n",
    "\n",
    "    r1 = sum(abs.(diag(R1)) .> eps() * maximum(abs.(diag(R1))))  # Estimar posto\n",
    "    E1 = Q1[:, 1:r1]  \n",
    "    E2 = complete_orthonormal(E1)  # Base ortonormal completa para R^d, d x (d - r1)\n",
    "    E = hcat(E1, E2)  # Base ortonormal completa para R^d, d x d\n",
    "    \n",
    "    # Passo 2: QR de D2^T para obter base de R(D2) em R^d\n",
    "    Q2 = Matrix(qr(D2').Q)  # Q2 é d x n\n",
    "    R2 = Matrix(qr(D2').R)  # R2 é n x n\n",
    "\n",
    "    println(\"Q2: \", size(Q2))  # Debugging: verificar tamanho de Q2\n",
    "    println(\"R2: \", size(R2))  # Debugging: verificar tamanho de R2\n",
    "\n",
    "    c1 = sum(abs.(diag(R2)) .> eps() * maximum(abs.(diag(R2))))  # Estimar posto\n",
    "    F1 = Q2[:, 1:c1]  \n",
    "    F2 = complete_orthonormal(F1)  # Base ortonormal completa para R^d, d x (d - c1)\n",
    "    \n",
    "\n",
    "    # Passo 3: Calcular Q11 = E1^T F1\n",
    "    Q11 = E1' * F1  # r1 x c1\n",
    "    Q12 = E1' * F2  # r1 x (d - c1)\n",
    "    Q21 = E2' * F1  # (d - r1) x c1\n",
    "    Q22 = E2' * F2  # (d - r1) x (d - c1)\n",
    "\n",
    "    # Passo 4: Concatenar Q11, Q12, Q21, Q22\n",
    "    Qtop = hcat(Q11, Q12)\n",
    "    Qbot = hcat(Q21, Q22)\n",
    "    Q = vcat(Qtop, Qbot)\n",
    "    \n",
    "    return Q, r1, c1, E, E1, F1, R1, R2\n",
    "end"
   ]
  },
  {
   "cell_type": "code",
   "execution_count": 4,
   "id": "1e8a8c3a",
   "metadata": {},
   "outputs": [
    {
     "name": "stdout",
     "output_type": "stream",
     "text": [
      "Q1: (500, 100)\n",
      "R1: (100, 100)\n",
      "Q2: (500, 100)\n",
      "R2: (100, 100)\n"
     ]
    },
    {
     "data": {
      "text/plain": [
       "([-0.014003922476514517 -0.05945429347303622 … -0.027439112457439227 -0.08627967111580956; -0.011423566931296682 0.007323678983271846 … -0.04890430067753271 0.018624065374738808; … ; 0.014762562284929148 0.04071855730227345 … 0.0013079928925760279 -0.05938360358870183; 0.02525442065569636 -0.010851209070244613 … 0.0161647956594158 -0.012255272328276315], 100, 100, [-0.015263470770990217 -0.04583765891621392 … 0.006756460667145292 -0.0302877228570489; -0.003998185609731355 -0.015226872396120639 … 0.0376851309984477 0.011017793661546968; … ; 0.06038237759429183 0.05719797414091383 … -0.005966225228594461 -0.023616928188778058; 0.09608370335432477 0.06703923083072505 … -0.05063462622996573 0.04098320893431617], [-0.015263470770990217 -0.04583765891621392 … 0.02409922602560376 -0.023723806021884928; -0.003998185609731355 -0.015226872396120639 … 0.0013662556103126485 0.07943600921095266; … ; 0.06038237759429183 0.05719797414091383 … 0.024861313944572846 0.02218422472221484; 0.09608370335432477 0.06703923083072505 … -0.04817063518551422 0.025180174199973305], [-0.00777991237789033 0.07766863719831173 … -0.006534382029551982 -0.0035326783796603084; -0.0074527141978643395 -0.07030897807573422 … 0.009280307902990677 0.049210163407368765; … ; -0.019495776295858937 0.07248713969060151 … -0.06014973725856586 -0.06251295075371045; 0.08891106463772398 -0.076629442801421 … 0.03284849000812207 0.019433033900446168], [-21.82136029081276 -0.3332860074387769 … 1.3393313685889305 -0.37327082263737366; 0.0 -22.821405449924818 … 0.09041701097239546 -2.3734775823611285; … ; 0.0 0.0 … -20.823899211222123 0.42918600709834753; 0.0 0.0 … 0.0 -19.732449805710168], [-22.973192986572023 -0.11905762450663793 … -2.0077081058037196 1.1509111020748466; 0.0 22.165865808225984 … -2.679391619241597 -1.104189479283731; … ; 0.0 0.0 … -19.583466028744304 0.6583684003812116; 0.0 0.0 … 0.0 21.17087010500462])"
      ]
     },
     "metadata": {},
     "output_type": "display_data"
    }
   ],
   "source": [
    "# Exemplo com dados aleatórios\n",
    "n = 100  # amostras dos datasets\n",
    "d = 500  # número de features\n",
    "\n",
    "D1 = randn(n, d)  # dataset 1\n",
    "D2 = randn(n, d)  # dataset 2\n",
    "\n",
    "Q, r1, c1, E, E1, F1, R1, R2 = build_csd_input_matrix(D1, D2)"
   ]
  },
  {
   "cell_type": "code",
   "execution_count": 5,
   "id": "fc5e5509",
   "metadata": {},
   "outputs": [
    {
     "data": {
      "text/plain": [
       "(500, 500)"
      ]
     },
     "metadata": {},
     "output_type": "display_data"
    },
    {
     "name": "stdout",
     "output_type": "stream",
     "text": [
      "Posto de D1: 100\n",
      "Posto de D2: 100\n",
      "Tamanho de E: (500, 500)\n",
      "Tamanho de E1: (500, 100)\n",
      "Tamanho de F1: (500, 100)\n",
      "Tamanho de R1: (100, 100)\n",
      "Tamanho de R2: (100, 100)\n"
     ]
    }
   ],
   "source": [
    "display(size(Q))  # Verifica o tamanho da matriz Q\n",
    "println(\"Posto de D1: \", r1)\n",
    "println(\"Posto de D2: \", c1)\n",
    "println(\"Tamanho de E: \", size(E))  # Verifica o tamanho da base ortonormal completa E\n",
    "println(\"Tamanho de E1: \", size(E1))  # Verifica o tamanho de E1\n",
    "println(\"Tamanho de F1: \", size(F1))  # Verifica o tamanho de E2\n",
    "println(\"Tamanho de R1: \", size(R1))  # Verifica o tamanho de R1\n",
    "println(\"Tamanho de R2: \", size(R2))  # Verifica o tamanho de R2"
   ]
  },
  {
   "cell_type": "code",
   "execution_count": 6,
   "id": "36b83df5",
   "metadata": {},
   "outputs": [
    {
     "name": "stdout",
     "output_type": "stream",
     "text": [
      "R1' * E1' é aproximadamente igual a D1\n"
     ]
    }
   ],
   "source": [
    "# Verificar se R1' * E1' é aproximadamente igual a D1\n",
    "if R1'*E1' ≈ D1\n",
    "    println(\"R1' * E1' é aproximadamente igual a D1\")\n",
    "else\n",
    "    println(\"R1' * E1' é diferente de D1\")\n",
    "end"
   ]
  },
  {
   "cell_type": "code",
   "execution_count": 7,
   "id": "dae7a61e",
   "metadata": {},
   "outputs": [
    {
     "data": {
      "text/plain": [
       "rebuild_datasets_matrices (generic function with 1 method)"
      ]
     },
     "metadata": {},
     "output_type": "display_data"
    }
   ],
   "source": [
    "function rebuild_datasets_matrices(E, R)\n",
    "    D_reconstructed = R' * E'  \n",
    "    # Retornar a matriz reconstruída\n",
    "    return D_reconstructed\n",
    "end"
   ]
  },
  {
   "cell_type": "code",
   "execution_count": 8,
   "id": "b0d7d908",
   "metadata": {},
   "outputs": [
    {
     "data": {
      "text/plain": [
       "verify_Q (generic function with 1 method)"
      ]
     },
     "metadata": {},
     "output_type": "display_data"
    }
   ],
   "source": [
    "function verify_Q(Q::Matrix{Float64})\n",
    "    if Q'*Q ≈ I\n",
    "        println(\"A matriz Q é ortonormal\")\n",
    "    else\n",
    "        println(\"A matriz Q não é ortonormal\")\n",
    "        \n",
    "    end\n",
    "end"
   ]
  },
  {
   "cell_type": "code",
   "execution_count": 9,
   "id": "7eaecc7e",
   "metadata": {},
   "outputs": [
    {
     "name": "stdout",
     "output_type": "stream",
     "text": [
      "A matriz Q é ortonormal\n",
      "As matrizes reconstruídas são equivalentes às originais!\n"
     ]
    }
   ],
   "source": [
    "# Exibir e verificar a corretude da matriz A\n",
    "verify_Q(Q)\n",
    "D1_reconstructed = rebuild_datasets_matrices(E1, R1)\n",
    "D2_reconstructed = rebuild_datasets_matrices(F1, R2)\n",
    "\n",
    "if D1_reconstructed ≈ D1 && D2_reconstructed ≈ D2\n",
    "    println(\"As matrizes reconstruídas são equivalentes às originais!\")\n",
    "else\n",
    "    println(\"As matrizes reconstruídas NÃO são equivalentes às originais.\")\n",
    "        \n",
    "end"
   ]
  },
  {
   "cell_type": "code",
   "execution_count": 10,
   "id": "0ff25d43",
   "metadata": {},
   "outputs": [
    {
     "data": {
      "text/plain": [
       "csd (generic function with 1 method)"
      ]
     },
     "metadata": {},
     "output_type": "display_data"
    }
   ],
   "source": [
    "function csd(Q, c1, r1, E)\n",
    "    d= size(Q, 1)  # Dimensão do espaço\n",
    "    # separar Q em blocos\n",
    "    Q11 = Q[1:r1, 1:c1]  # r1 x c1\n",
    "    Q12 = Q[1:r1, c1+1:end]  # r1 x (d - c1)\n",
    "    Q21 = Q[r1+1:end, 1:c1]  # ( d - r1) x c1\n",
    "    Q22 = Q[r1+1:end, c1+1:end]  # (d - r1) x (d - c1)\n",
    "\n",
    "    # SVD dos blocos de Q = EᵀF\n",
    "    U1, S11, V1 = svd(Q11; full=true)     \n",
    "    U2, S22, V2  = svd(Q22; full=true)\n",
    "\n",
    "    D11 = U1' * Q11 * V1\n",
    "    D12 = U1' * Q12 * V2 \n",
    "    D21 = U2' * Q21 * V1\n",
    "    D22 = U2' * Q22 * V2\n",
    "    \n",
    "    # Monta matriz diagonalizada D via blocos projetados\n",
    "    D_top = hcat(D11, D12)  # r1 x d\n",
    "    D_bot = hcat(D21, D22)  # (d - r1) x (d - c1)\n",
    "    D = vcat(D_top, D_bot)  # d × d\n",
    "\n",
    "    # Constrói matriz U unificada\n",
    "    U = Matrix{Float64}(I, d, d)\n",
    "    U[1:r1, 1:r1] = U1\n",
    "    U[r1+1:end, r1+1:end] = U2\n",
    "    \n",
    "    # Constrói matriz V unificada\n",
    "    V= Matrix{Float64}(I, d, d)\n",
    "    V[1:c1, 1:c1] = V1\n",
    "    V[c1+1:end, c1+1:end] = V2\n",
    "    \n",
    "    # Calcula os ângulos θ entre os subespaços\n",
    "    θ = acos.(clamp.(S11, -1.0, 1.0))\n",
    "\n",
    "    # Reconstrói a rotação W que leva E1 → F1\n",
    "    W = E * U * D * U' * E'\n",
    "\n",
    "\n",
    "    return U, U1, U2, V, V1, V2, D, θ, W  \n",
    "end"
   ]
  },
  {
   "cell_type": "code",
   "execution_count": 11,
   "id": "d1f5046d",
   "metadata": {},
   "outputs": [
    {
     "data": {
      "text/plain": [
       "([-0.021631568347529787 -0.03942064000241097 … 0.0 0.0; -0.08450141205358448 -0.08659102271317887 … 0.0 0.0; … ; 0.0 0.0 … 0.03143130660329895 -0.03565688723509688; 0.0 0.0 … 0.11763781926782998 -0.01860623876925731], [-0.021631568347529787 -0.03942064000241097 … -0.09770401664021885 -0.013979710778544478; -0.08450141205358448 -0.08659102271317887 … -0.1299765967301634 0.20238769333614542; … ; 0.11030243359740227 -0.15336227551569204 … -0.10007180545292367 0.11520921054087918; 0.19655085080303844 0.09801472334464091 … -0.07903104322026348 -0.026856617323851306], [-0.00621876641854346 0.02982165573329139 … 0.12185517160755235 -0.034169230037943; -0.010839156222335432 -0.014947125725252619 … -0.07533300453547172 -0.07340452144189041; … ; -0.05338371257743557 0.08374468304492586 … 0.03143130660329895 -0.03565688723509688; 0.00014044400903125143 -0.09510989187030333 … 0.11763781926782998 -0.01860623876925731], [-0.05272760046406454 0.17502425017928683 … 0.0 0.0; 0.16945482627758088 -0.11252799680603115 … 0.0 0.0; … ; 0.0 0.0 … 0.058263712533086306 -0.017585782462558944; 0.0 0.0 … 0.032974038168818665 -0.017410713923749852], [-0.05272760046406454 0.17502425017928683 … -0.005925444636516768 -0.08545003452106818; 0.16945482627758088 -0.11252799680603115 … 0.01744913780109097 0.08179276442864797; … ; 0.06448026063948326 -0.05052922038093347 … 0.06460857469002194 0.039682914573251744; -0.004607348352143985 0.09891313758474948 … 0.00922339260325783 0.15252721399334435], [0.0 0.0 … -0.017412843571922177 0.05870682990408574; 0.023224074094877572 0.013966067896745617 … 0.06556446363099586 -0.006564000886037452; … ; 0.03144509366569749 -0.02428254049214463 … 0.058263712533086306 -0.017585782462558944; 0.01637732718203921 -0.13156603700700353 … 0.032974038168818665 -0.017410713923749852], [0.8155454147257492 -4.0255172606127715e-16 … -1.3366044382401299e-15 4.579669976578771e-16; -4.476549243168799e-16 0.7709794319616854 … 1.7390602846667491e-15 -9.471590178833367e-16; … ; 1.2526199956872825e-14 3.4936446110231015e-14 … 0.012007830056203483 4.618701254788249e-17; -1.0691967953779944e-15 -4.316438833294366e-15 … 4.385936600882767e-17 0.0023784972186889778], [0.6171252628636268, 0.6904186957943089, 0.7011186070268531, 0.7092572962269723, 0.7213213600672514, 0.7315486239332932, 0.7510472110035945, 0.7653203014575434, 0.778208978657809, 0.7888400394885416  …  1.4956375216947837, 1.5040602609455145, 1.5100198957843096, 1.521673000968256, 1.5373079007699695, 1.545960209050115, 1.5486357476320243, 1.555546060958656, 1.558788208155831, 1.5684178273335758], [0.7502750436249552 0.06388738767292608 … -0.00433845860874759 -0.009686879241815572; -0.028093863951336125 0.7509767048018723 … -0.009042798291875641 -0.0059797423260905605; … ; -0.04006572359167074 -0.0005291542218091253 … 0.715858345722493 0.02672766136793977; -0.017511598596332258 0.03323391250685605 … -0.05120639977585292 0.7578390647577118])"
      ]
     },
     "metadata": {},
     "output_type": "display_data"
    }
   ],
   "source": [
    "U, U1, U2, V, V1, V2, D, θ, W =csd(Q, c1, r1, E)"
   ]
  },
  {
   "cell_type": "code",
   "execution_count": 12,
   "id": "e2d7ef03",
   "metadata": {},
   "outputs": [
    {
     "name": "stdout",
     "output_type": "stream",
     "text": [
      "Ângulos principais entre subespaços (em graus): [35.35867299298733, 39.55807736594058, 40.17113712072999, 40.63744966266552, 41.3286696044899, 41.91464865998075, 43.03183540557737, 43.8496232491971, 44.588090056278816, 45.19720497362663, 46.021150801866874, 46.35679411685944, 47.239652699968595, 47.836101157005025, 48.192193675152645, 48.57048816575177, 48.97573946434506, 49.62034975910142, 50.16365440562102, 51.05590345515, 51.36735988963826, 52.225926582450306, 52.66804385084934, 53.14050573421529, 53.552503563874204, 54.305847755551, 54.82708109194573, 55.527260858615264, 56.29928395955354, 56.905974610453804, 57.409302446152196, 58.00919554803973, 58.67955687851828, 58.94147762525168, 59.15831069429074, 59.80424773158658, 60.00881406297375, 60.63614916313707, 61.1047532598787, 61.57946412587277, 62.23969549455474, 62.4291339855715, 62.74795977039058, 63.12402813416996, 63.69410761182387, 64.11482798987664, 64.27752381552378, 65.53002149486507, 65.63980181275419, 66.43579662600081, 66.57193298433654, 67.27873243469381, 67.61102396144885, 67.84344881131655, 68.38322442649225, 68.75669546135512, 69.57840750209978, 70.12382952306791, 70.5220013524872, 71.07517598443846, 71.41056716799801, 71.8077199320513, 72.01626483676797, 72.97642522733628, 73.41261396839148, 73.76800877747132, 74.23350056048461, 74.76294458072722, 75.6276640351258, 75.97450568592453, 76.33381685812881, 76.36844377883142, 77.20963904747008, 77.75923682087215, 78.00416313728874, 78.54984858569651, 79.08063660464158, 79.25129073498587, 80.1662753145741, 80.64382001193634, 80.92702703066928, 81.8710243688149, 82.1423817522769, 82.27705551064788, 82.48865924999332, 83.81724474489717, 83.88946504993153, 83.97884445225121, 84.86337212303836, 85.17650742253268, 85.6937176745172, 86.17630508552327, 86.51776700922535, 87.1854407544875, 88.08125452623561, 88.57699527373404, 88.73029234240187, 89.12622413113087, 89.31198548208917, 89.86372201929218]\n",
      "tamanho de U: (500, 500)\n",
      "tamanho de U1: (100, 100)\n",
      "tamanho de U2: (400, 400)\n",
      "tamanho de V: (500, 500)\n",
      "tamanho de V1: (100, 100)\n",
      "tamanho de V2: (400, 400)\n",
      "tamanho de D: (500, 500)\n",
      "tamanho de W: (500, 500)\n"
     ]
    }
   ],
   "source": [
    "θ_deg = θ .* (180 / π)\n",
    "println(\"Ângulos principais entre subespaços (em graus): \", θ_deg)\n",
    "println(\"tamanho de U: \", size(U))\n",
    "println(\"tamanho de U1: \", size(U1))\n",
    "println(\"tamanho de U2: \", size(U2))\n",
    "println(\"tamanho de V: \", size(V))\n",
    "println(\"tamanho de V1: \", size(V1))\n",
    "println(\"tamanho de V2: \", size(V2))\n",
    "println(\"tamanho de D: \", size(D))\n",
    "println(\"tamanho de W: \", size(W))"
   ]
  },
  {
   "cell_type": "code",
   "execution_count": 13,
   "id": "f10777a3",
   "metadata": {},
   "outputs": [
    {
     "data": {
      "text/plain": [
       "100-element Vector{Float64}:\n",
       " 0.6171252628636268\n",
       " 0.6904186957943089\n",
       " 0.7011186070268531\n",
       " 0.7092572962269723\n",
       " 0.7213213600672514\n",
       " 0.7315486239332932\n",
       " 0.7510472110035945\n",
       " 0.7653203014575434\n",
       " 0.778208978657809\n",
       " 0.7888400394885416\n",
       " ⋮\n",
       " 1.5040602609455145\n",
       " 1.5100198957843096\n",
       " 1.521673000968256\n",
       " 1.5373079007699695\n",
       " 1.545960209050115\n",
       " 1.5486357476320243\n",
       " 1.555546060958656\n",
       " 1.558788208155831\n",
       " 1.5684178273335758"
      ]
     },
     "metadata": {},
     "output_type": "display_data"
    },
    {
     "data": {
      "text/plain": [
       "true"
      ]
     },
     "metadata": {},
     "output_type": "display_data"
    },
    {
     "name": "stdout",
     "output_type": "stream",
     "text": [
      "U * D * V' ≈ Q = true\n",
      "W * E1 * U1 * V1' ≈ F1 = true\n"
     ]
    },
    {
     "data": {
      "text/plain": [
       "true"
      ]
     },
     "metadata": {},
     "output_type": "display_data"
    }
   ],
   "source": [
    "display(θ)                 # Ângulos principais entre subespaços (em radianos)\n",
    "@show(U*D*V' ≈ Q) \n",
    "display(norm(W-I) ≈ norm(D-I))  # Deve ser próximo de 0 (rotação direta correta)\n",
    "@show W*E1*U1*V1' ≈ F1 "
   ]
  },
  {
   "cell_type": "code",
   "execution_count": 14,
   "id": "19bfba74",
   "metadata": {},
   "outputs": [
    {
     "name": "stdout",
     "output_type": "stream",
     "text": [
      "A matriz D2 reconstruída a partir da rotação é equivalente à original!\n"
     ]
    }
   ],
   "source": [
    "D2_reconstructed_from_rotation = rebuild_datasets_matrices(W*E1*U1*V1', R2)\n",
    "\n",
    "if  D2_reconstructed_from_rotation ≈ D2\n",
    "    println(\"A matriz D2 reconstruída a partir da rotação é equivalente à original!\")\n",
    "else\n",
    "    println(\"A matriz D2 reconstruída a partir da rotação NÃO é equivalente à original.\")\n",
    "end"
   ]
  }
 ],
 "metadata": {
  "kernelspec": {
   "display_name": "Julia 1.10.2",
   "language": "julia",
   "name": "julia-1.10"
  },
  "language_info": {
   "file_extension": ".jl",
   "mimetype": "application/julia",
   "name": "julia",
   "version": "1.10.2"
  }
 },
 "nbformat": 4,
 "nbformat_minor": 5
}
