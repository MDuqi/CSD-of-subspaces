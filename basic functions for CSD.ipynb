{
 "cells": [
  {
   "cell_type": "code",
   "execution_count": 17,
   "id": "c9514414",
   "metadata": {},
   "outputs": [],
   "source": [
    "\n",
    "using LinearAlgebra\n",
    "using GenericLinearAlgebra\n"
   ]
  },
  {
   "cell_type": "code",
   "execution_count": 18,
   "id": "5afeb2b2",
   "metadata": {},
   "outputs": [
    {
     "data": {
      "text/plain": [
       "complete_orthonormal (generic function with 1 method)"
      ]
     },
     "metadata": {},
     "output_type": "display_data"
    }
   ],
   "source": [
    "function complete_orthonormal(U::Matrix{Float64})\n",
    "    d, r = size(U)\n",
    "    r ≤ d || error(\"U deve ter no máximo d colunas\")\n",
    "\n",
    "    r == d && return zeros(Float64, d, 0)   # já completa\n",
    "\n",
    "    # Projeta vetores aleatórios no complemento de span(U)\n",
    "    Z = randn(Float64, d, d - r)\n",
    "    Z .-= U * (U' * Z)                      # remove componente em U\n",
    "\n",
    "    # QR fino garante ortonormalidade\n",
    "    C = Matrix(qr(Z).Q)                  # d × (d−r)\n",
    "    return C\n",
    "end"
   ]
  },
  {
   "cell_type": "code",
   "execution_count": 19,
   "id": "2cc3a2bb",
   "metadata": {},
   "outputs": [
    {
     "data": {
      "text/plain": [
       "build_csd_input_matrix (generic function with 1 method)"
      ]
     },
     "metadata": {},
     "output_type": "display_data"
    }
   ],
   "source": [
    "function build_csd_input_matrix(D1::Matrix{Float64}, D2::Matrix{Float64})\n",
    "    # Dimensões\n",
    "    m, d = size(D1)  # D1: m x d\n",
    "    n, _ = size(D2)  # D2: n x d\n",
    "\n",
    "    # Passo 1: QR de D1^T para obter base de R(D1) em R^d\n",
    "    Q1 = Matrix(qr(D1').Q)  # Q1 é d x m\n",
    "    R1 = Matrix(qr(D1').R)  # R1 é m x m\n",
    "\n",
    "    println(\"Q1: \", size(Q1))  # Debugging: verificar tamanho de Q1\n",
    "    println(\"R1: \", size(R1))  # Debugging: verificar tamanho de R1\n",
    "\n",
    "    r1 = sum(abs.(diag(R1)) .> eps() * maximum(abs.(diag(R1))))  # Estimar posto\n",
    "    E1 = Q1[:, 1:r1]  \n",
    "    E2 = complete_orthonormal(E1)  # Base ortonormal completa para R^d, d x (d - r1)\n",
    "    E = hcat(E1, E2)  # Base ortonormal completa para R^d, d x d\n",
    "    \n",
    "    # Passo 2: QR de D2^T para obter base de R(D2) em R^d\n",
    "    Q2 = Matrix(qr(D2').Q)  # Q2 é d x n\n",
    "    R2 = Matrix(qr(D2').R)  # R2 é n x n\n",
    "\n",
    "    println(\"Q2: \", size(Q2))  # Debugging: verificar tamanho de Q2\n",
    "    println(\"R2: \", size(R2))  # Debugging: verificar tamanho de R2\n",
    "\n",
    "    c1 = sum(abs.(diag(R2)) .> eps() * maximum(abs.(diag(R2))))  # Estimar posto\n",
    "    F1 = Q2[:, 1:c1]  \n",
    "    F2 = complete_orthonormal(F1)  # Base ortonormal completa para R^d, d x (d - c1)\n",
    "    \n",
    "\n",
    "    # Passo 3: Calcular Q11 = E1^T F1\n",
    "    Q11 = E1' * F1  # r1 x c1\n",
    "    Q12 = E1' * F2  # r1 x (d - c1)\n",
    "    Q21 = E2' * F1  # (d - r1) x c1\n",
    "    Q22 = E2' * F2  # (d - r1) x (d - c1)\n",
    "\n",
    "    # Passo 4: Concatenar Q11, Q12, Q21, Q22\n",
    "    Qtop = hcat(Q11, Q12)\n",
    "    Qbot = hcat(Q21, Q22)\n",
    "    Q = vcat(Qtop, Qbot)\n",
    "    \n",
    "    return Q, r1, c1, E, E1, F1, R1, R2\n",
    "end"
   ]
  },
  {
   "cell_type": "code",
   "execution_count": 20,
   "id": "1e8a8c3a",
   "metadata": {},
   "outputs": [
    {
     "name": "stdout",
     "output_type": "stream",
     "text": [
      "Q1: (500, 100)\n",
      "R1: (100, 100)\n",
      "Q2: (500, 100)\n",
      "R2: (100, 100)\n"
     ]
    },
    {
     "data": {
      "text/plain": [
       "([-0.0184711773659502 -0.015619493931736332 … -0.10259075616486744 0.017717869317142365; -0.07589614522262966 0.0798436855843189 … 0.01697555760012345 0.00674901621099592; … ; 0.04963526097687966 0.0037471726955763084 … 0.046796391960739356 -0.01861825912413302; -0.03089833305019686 -0.001739398053617957 … -0.03773719571013553 -0.0167968621041212], 100, 100, [-0.09212292206248196 -0.04307747626498185 … -0.07502367088536903 -0.02815640273866346; -0.0367537526386082 -0.042640005452307506 … 0.013785964817532428 0.0331742783913384; … ; -0.01070797926859714 0.011836147875032453 … 0.029124811498243326 -0.050556529971653455; 0.040879112587656495 -0.011006570719379207 … -0.06726224118882906 0.013837213275629206], [-0.09212292206248196 -0.04307747626498185 … -0.08396768721225424 0.001027783855937348; -0.0367537526386082 -0.042640005452307506 … 0.03500606667981031 0.03430585689947727; … ; -0.01070797926859714 0.011836147875032453 … -0.03671986552555615 -0.025098761556132665; 0.040879112587656495 -0.011006570719379207 … -0.014664351202420135 0.06624597575277918], [-0.07914966564278281 0.030633211045572695 … 0.02297739355655642 0.016599107893842915; -0.02528664098110481 -0.002525400000074285 … 0.02800248659161408 0.01162093862692711; … ; -0.006353498447786569 0.07794341328744518 … -0.01624315691397265 0.007347873809218483; 0.027830168652157743 -0.015196416124744493 … 0.031538557608752744 0.0403778788598053], [22.630391361022784 -0.3870408102095637 … 1.0886470004688278 -0.13808709903608912; 0.0 -22.83427189786917 … -2.4894051012999467 -0.29536153360366013; … ; 0.0 0.0 … 20.42772002225564 0.9580751781375865; 0.0 0.0 … 0.0 -20.29336717513447], [21.15183109786719 -0.4560004771072831 … 0.9722961266364561 -0.29400041087967066; 0.0 -22.022005261715485 … 2.4836700299607 0.6001095427813652; … ; 0.0 0.0 … -19.20257835124591 -1.9975910273078084; 0.0 0.0 … 0.0 19.384801503269866])"
      ]
     },
     "metadata": {},
     "output_type": "display_data"
    }
   ],
   "source": [
    "# Exemplo com dados aleatórios\n",
    "n = 100  # amostras dos datasets\n",
    "d = 500  # número de features\n",
    "\n",
    "D1 = randn(n, d)  # dataset 1\n",
    "D2 = randn(n, d)  # dataset 2\n",
    "\n",
    "Q, r1, c1, E, E1, F1, R1, R2 = build_csd_input_matrix(D1, D2)"
   ]
  },
  {
   "cell_type": "code",
   "execution_count": 21,
   "id": "fc5e5509",
   "metadata": {},
   "outputs": [
    {
     "data": {
      "text/plain": [
       "(500, 500)"
      ]
     },
     "metadata": {},
     "output_type": "display_data"
    },
    {
     "name": "stdout",
     "output_type": "stream",
     "text": [
      "Posto de D1: 100\n",
      "Posto de D2: 100\n",
      "Tamanho de E: (500, 500)\n",
      "Tamanho de E1: (500, 100)\n",
      "Tamanho de F1: (500, 100)\n",
      "Tamanho de R1: (100, 100)\n",
      "Tamanho de R2: (100, 100)\n"
     ]
    }
   ],
   "source": [
    "display(size(Q))  # Verifica o tamanho da matriz Q\n",
    "println(\"Posto de D1: \", r1)\n",
    "println(\"Posto de D2: \", c1)\n",
    "println(\"Tamanho de E: \", size(E))  # Verifica o tamanho da base ortonormal completa E\n",
    "println(\"Tamanho de E1: \", size(E1))  # Verifica o tamanho de E1\n",
    "println(\"Tamanho de F1: \", size(F1))  # Verifica o tamanho de E2\n",
    "println(\"Tamanho de R1: \", size(R1))  # Verifica o tamanho de R1\n",
    "println(\"Tamanho de R2: \", size(R2))  # Verifica o tamanho de R2"
   ]
  },
  {
   "cell_type": "code",
   "execution_count": 22,
   "id": "36b83df5",
   "metadata": {},
   "outputs": [
    {
     "name": "stdout",
     "output_type": "stream",
     "text": [
      "R1' * E1' é aproximadamente igual a D1\n"
     ]
    }
   ],
   "source": [
    "# Verificar se R1' * E1' é aproximadamente igual a D1\n",
    "if R1'*E1' ≈ D1\n",
    "    println(\"R1' * E1' é aproximadamente igual a D1\")\n",
    "else\n",
    "    println(\"R1' * E1' é diferente de D1\")\n",
    "end"
   ]
  },
  {
   "cell_type": "code",
   "execution_count": 23,
   "id": "dae7a61e",
   "metadata": {},
   "outputs": [
    {
     "data": {
      "text/plain": [
       "rebuild_datasets_matrices (generic function with 1 method)"
      ]
     },
     "metadata": {},
     "output_type": "display_data"
    }
   ],
   "source": [
    "function rebuild_datasets_matrices(E, R)\n",
    "    D_reconstructed = R' * E'  \n",
    "    # Retornar a matriz reconstruída\n",
    "    return D_reconstructed\n",
    "end"
   ]
  },
  {
   "cell_type": "code",
   "execution_count": 24,
   "id": "b0d7d908",
   "metadata": {},
   "outputs": [
    {
     "data": {
      "text/plain": [
       "verify_Q (generic function with 1 method)"
      ]
     },
     "metadata": {},
     "output_type": "display_data"
    }
   ],
   "source": [
    "function verify_Q(Q::Matrix{Float64})\n",
    "    if Q'*Q ≈ I\n",
    "        println(\"A matriz Q é ortonormal\")\n",
    "    else\n",
    "        println(\"A matriz Q não é ortonormal\")\n",
    "        \n",
    "    end\n",
    "end"
   ]
  },
  {
   "cell_type": "code",
   "execution_count": 25,
   "id": "7eaecc7e",
   "metadata": {},
   "outputs": [
    {
     "name": "stdout",
     "output_type": "stream",
     "text": [
      "A matriz Q é ortonormal\n",
      "As matrizes reconstruídas são equivalentes às originais!\n"
     ]
    }
   ],
   "source": [
    "# Exibir e verificar a corretude da matriz A\n",
    "verify_Q(Q)\n",
    "D1_reconstructed = rebuild_datasets_matrices(E1, R1)\n",
    "D2_reconstructed = rebuild_datasets_matrices(F1, R2)\n",
    "\n",
    "if D1_reconstructed ≈ D1 && D2_reconstructed ≈ D2\n",
    "    println(\"As matrizes reconstruídas são equivalentes às originais!\")\n",
    "else\n",
    "    println(\"As matrizes reconstruídas NÃO são equivalentes às originais.\")\n",
    "        \n",
    "end"
   ]
  },
  {
   "cell_type": "code",
   "execution_count": 26,
   "id": "0ff25d43",
   "metadata": {},
   "outputs": [
    {
     "data": {
      "text/plain": [
       "csd (generic function with 1 method)"
      ]
     },
     "metadata": {},
     "output_type": "display_data"
    }
   ],
   "source": [
    "function csd(Q, c1, r1, E)\n",
    "    d= size(Q, 1)  # Dimensão do espaço\n",
    "    # separar Q em blocos\n",
    "    Q11 = Q[1:r1, 1:c1]  # r1 x c1\n",
    "    Q12 = Q[1:r1, c1+1:end]  # r1 x (d - c1)\n",
    "    Q21 = Q[r1+1:end, 1:c1]  # ( d - r1) x c1\n",
    "    Q22 = Q[r1+1:end, c1+1:end]  # (d - r1) x (d - c1)\n",
    "\n",
    "    # SVD dos blocos de Q = EᵀF\n",
    "    U1, S11, V1 = svd(Q11; full=true)     \n",
    "    U2, S22, V2  = svd(Q22; full=true)\n",
    "\n",
    "    D11 = U1' * Q11 * V1\n",
    "    D12 = U1' * Q12 * V2 \n",
    "    D21 = U2' * Q21 * V1\n",
    "    D22 = U2' * Q22 * V2\n",
    "    \n",
    "    # Monta matriz diagonalizada D via blocos projetados\n",
    "    D_top = hcat(D11, D12)  # r1 x d\n",
    "    D_bot = hcat(D21, D22)  # (d - r1) x (d - c1)\n",
    "    D = vcat(D_top, D_bot)  # d × d\n",
    "\n",
    "    # Constrói matriz U unificada\n",
    "    U = Matrix{Float64}(I, d, d)\n",
    "    U[1:r1, 1:r1] = U1\n",
    "    U[r1+1:end, r1+1:end] = U2\n",
    "    \n",
    "    # Constrói matriz V unificada\n",
    "    V= Matrix{Float64}(I, d, d)\n",
    "    V[1:c1, 1:c1] = V1\n",
    "    V[c1+1:end, c1+1:end] = V2\n",
    "    \n",
    "    # Calcula os ângulos θ entre os subespaços\n",
    "    θ = acos.(clamp.(S11, -1.0, 1.0))\n",
    "\n",
    "    # Reconstrói a rotação W que leva E1 → F1\n",
    "    W = E * U * D * U' * E'\n",
    "\n",
    "\n",
    "    return U, U1, U2, V, V1, V2, D, θ, W  \n",
    "end"
   ]
  },
  {
   "cell_type": "code",
   "execution_count": 27,
   "id": "d1f5046d",
   "metadata": {},
   "outputs": [
    {
     "data": {
      "text/plain": [
       "([-0.10892249577576943 0.006877655456195342 … 0.0 0.0; 0.08354615926663017 -0.04025893937219999 … 0.0 0.0; … ; 0.0 0.0 … 0.045341755662018465 -0.033962751433661564; 0.0 0.0 … -0.035445597278641626 -0.00732803148640546], [-0.10892249577576943 0.006877655456195342 … 0.08764345642721111 -0.13014737402412993; 0.08354615926663017 -0.04025893937219999 … 0.09126128813903299 0.020480862555881146; … ; -0.10039036225692136 -0.005291996730262543 … -0.03811067812805901 0.1560586903414804; -0.16618395863191252 -0.1389868662582321 … -0.12586360359484186 -0.03041014286283096], [-0.036579663490897515 0.02678258887534313 … -0.09824010474374455 0.03306530268113713; -0.02034627401633079 0.07396640124173852 … 0.010382680820675035 0.04251715492384802; … ; -0.008472533288218986 0.015342126163255428 … 0.045341755662018465 -0.033962751433661564; -0.01383775897346282 0.008056061323512574 … -0.035445597278641626 -0.00732803148640546], [0.08084002115112737 0.10730872166734193 … 0.0 0.0; 0.09412598526416652 -0.029770016145070688 … 0.0 0.0; … ; 0.0 0.0 … 0.022193516361148732 -0.013591853225746497; 0.0 0.0 … -0.0808154661574696 0.0018991398750965848], [0.08084002115112737 0.10730872166734193 … -0.06298289225008234 -0.12199959000751605; 0.09412598526416652 -0.029770016145070688 … -0.2109656502782048 -0.03251482779043227; … ; -0.06296406443826713 -0.04917904803055246 … -0.018875353709364717 0.0371242032275428; 0.042838898567773696 0.1456966718741913 … -0.2519061544128826 0.001041625243822425], [0.0 0.0 … 0.01026489886455308 -0.05846071833644294; 0.0404480082259478 -0.039203559949774335 … -0.0009541091657574198 0.03696670194079002; … ; -0.031218761601523516 0.07684414055164386 … 0.022193516361148732 -0.013591853225746497; 0.09517462872535774 0.06446372326209932 … -0.0808154661574696 0.0018991398750965848], [0.7830466003912259 -3.361548223096048e-16 … -8.396061623727746e-16 -7.149229125369416e-16; -1.4921608146166465e-18 0.7626678931008946 … 5.9674487573602164e-15 -2.8362728832220796e-16; … ; 1.5345941088903393e-15 -7.791023558271771e-16 … 0.017429482216667513 7.697835424647081e-18; 1.0333864146151448e-15 7.466948978573004e-16 … 2.5261910618912253e-17 0.0057109758166963035], [0.6712471394611743, 0.7033683635715258, 0.7162447695496325, 0.7310917211814117, 0.7419074999212548, 0.7618990153805991, 0.7680232392230227, 0.7853967477320524, 0.7894886604126086, 0.8023484305297643  …  1.4916332940573471, 1.5004380652738702, 1.5081380198443575, 1.519620418038426, 1.5304248428576093, 1.5367182238013133, 1.5422489739174035, 1.5495211650200171, 1.5533659619829876, 1.5650853199335986], [0.7633946084512313 -0.02797123556360656 … -0.013051893676180686 0.0004513136701317661; 0.023896043716009684 0.7204517659400536 … 0.010857476114505056 -0.001869889811050112; … ; -0.017313303087561356 0.005359011753588262 … 0.7574173958209833 -0.0006977588785688875; -0.029513123624219248 0.010630986525889615 … -0.08990590421041614 0.7553045995357088])"
      ]
     },
     "metadata": {},
     "output_type": "display_data"
    }
   ],
   "source": [
    "U, U1, U2, V, V1, V2, D, θ, W =csd(Q, c1, r1, E)"
   ]
  },
  {
   "cell_type": "code",
   "execution_count": 28,
   "id": "e2d7ef03",
   "metadata": {},
   "outputs": [
    {
     "name": "stdout",
     "output_type": "stream",
     "text": [
      "Ângulos principais entre subespaços (em graus): [38.45962810135467, 40.300038675671665, 41.0378023935142, 41.88847006065002, 42.508168534590354, 43.653597996481324, 44.00449017544559, 44.99991888834761, 45.23436821507954, 45.97117876830103, 46.47704943803909, 47.599719748860025, 48.441003324371664, 48.907927050276555, 49.63172309842743, 49.647052569002724, 50.27289140640379, 50.63595963243996, 51.065606633032445, 51.43222764364425, 51.971521347821806, 52.49931967216916, 53.27009858360114, 54.239332874135826, 55.20670776479365, 55.71883905673532, 56.13087058878054, 56.49218566561542, 56.805211565875894, 57.493265991619545, 57.91303565614927, 58.88317511713263, 59.57609735660782, 59.89593721399649, 60.31465605275751, 60.5260208681832, 61.11869490564769, 61.63454544111254, 62.114505010239355, 62.45687984633449, 63.19326242374534, 63.26006846633715, 63.87715279619683, 63.99679766949859, 65.13388204733297, 65.42223159326093, 65.99076291282479, 66.07845750563452, 66.78193428545784, 67.07909323867442, 67.8668811170422, 68.15095172693441, 68.35291015001566, 69.02268812658433, 69.55121458817706, 70.4050381563254, 70.49080949386595, 71.01933026722675, 71.71484212704576, 72.07752074410308, 72.63050836986896, 72.93734448346797, 73.47726494259408, 74.0185570066855, 74.50389031843298, 74.73796555981843, 74.91539817576465, 75.08122240270707, 75.32106396830741, 76.5440282831544, 77.28777265434266, 77.42058590580471, 77.67143833761665, 78.27648007092297, 78.90379493564723, 79.07625270168798, 79.29177776151961, 79.97388767292546, 80.02848173099348, 80.68647721611947, 81.28963149596636, 81.5273157181708, 81.92572754862451, 82.18767243953369, 82.49507532227524, 83.23407018748264, 83.86929252880128, 84.23286546466609, 84.39247882195585, 84.96784511212704, 85.46429233068245, 85.96876856096749, 86.40994346029888, 87.06783641550764, 87.68688435771324, 88.04746852465554, 88.364357163849, 88.78102302184135, 89.00131366090427, 89.67278341007737]\n",
      "tamanho de U: (500, 500)\n",
      "tamanho de U1: (100, 100)\n",
      "tamanho de U2: (400, 400)\n",
      "tamanho de V: (500, 500)\n",
      "tamanho de V1: (100, 100)\n",
      "tamanho de V2: (400, 400)\n",
      "tamanho de D: (500, 500)\n",
      "tamanho de W: (500, 500)\n"
     ]
    }
   ],
   "source": [
    "θ_deg = θ .* (180 / π)\n",
    "println(\"Ângulos principais entre subespaços (em graus): \", θ_deg)\n",
    "println(\"tamanho de U: \", size(U))\n",
    "println(\"tamanho de U1: \", size(U1))\n",
    "println(\"tamanho de U2: \", size(U2))\n",
    "println(\"tamanho de V: \", size(V))\n",
    "println(\"tamanho de V1: \", size(V1))\n",
    "println(\"tamanho de V2: \", size(V2))\n",
    "println(\"tamanho de D: \", size(D))\n",
    "println(\"tamanho de W: \", size(W))"
   ]
  },
  {
   "cell_type": "code",
   "execution_count": 29,
   "id": "f10777a3",
   "metadata": {},
   "outputs": [
    {
     "data": {
      "text/plain": [
       "100-element Vector{Float64}:\n",
       " 0.6712471394611743\n",
       " 0.7033683635715258\n",
       " 0.7162447695496325\n",
       " 0.7310917211814117\n",
       " 0.7419074999212548\n",
       " 0.7618990153805991\n",
       " 0.7680232392230227\n",
       " 0.7853967477320524\n",
       " 0.7894886604126086\n",
       " 0.8023484305297643\n",
       " ⋮\n",
       " 1.5004380652738702\n",
       " 1.5081380198443575\n",
       " 1.519620418038426\n",
       " 1.5304248428576093\n",
       " 1.5367182238013133\n",
       " 1.5422489739174035\n",
       " 1.5495211650200171\n",
       " 1.5533659619829876\n",
       " 1.5650853199335986"
      ]
     },
     "metadata": {},
     "output_type": "display_data"
    },
    {
     "data": {
      "text/plain": [
       "true"
      ]
     },
     "metadata": {},
     "output_type": "display_data"
    },
    {
     "name": "stdout",
     "output_type": "stream",
     "text": [
      "U * D * V' ≈ Q = true\n",
      "W * E1 * U1 * V1' ≈ F1 = true\n"
     ]
    },
    {
     "data": {
      "text/plain": [
       "true"
      ]
     },
     "metadata": {},
     "output_type": "display_data"
    }
   ],
   "source": [
    "display(θ)                 # Ângulos principais entre subespaços (em radianos)\n",
    "@show(U*D*V' ≈ Q) \n",
    "display(norm(W-I) ≈ norm(D-I))  # Deve ser próximo de 0 (rotação direta correta)\n",
    "@show W*E1*U1*V1' ≈ F1 "
   ]
  },
  {
   "cell_type": "code",
   "execution_count": 30,
   "id": "19bfba74",
   "metadata": {},
   "outputs": [
    {
     "name": "stdout",
     "output_type": "stream",
     "text": [
      "A matriz D2 reconstruída a partir da rotação é equivalente à original!\n"
     ]
    }
   ],
   "source": [
    "D2_reconstructed_from_rotation = rebuild_datasets_matrices(W*E1*U1*V1', R2)\n",
    "\n",
    "if  D2_reconstructed_from_rotation ≈ D2\n",
    "    println(\"A matriz D2 reconstruída a partir da rotação é equivalente à original!\")\n",
    "else\n",
    "    println(\"A matriz D2 reconstruída a partir da rotação NÃO é equivalente à original.\")\n",
    "end"
   ]
  }
 ],
 "metadata": {
  "kernelspec": {
   "display_name": "Julia 1.10.2",
   "language": "julia",
   "name": "julia-1.10"
  },
  "language_info": {
   "file_extension": ".jl",
   "mimetype": "application/julia",
   "name": "julia",
   "version": "1.10.2"
  }
 },
 "nbformat": 4,
 "nbformat_minor": 5
}
