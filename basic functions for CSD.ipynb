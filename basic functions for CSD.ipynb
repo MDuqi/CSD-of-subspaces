{
 "cells": [
  {
   "cell_type": "code",
   "execution_count": 336,
   "id": "c9514414",
   "metadata": {},
   "outputs": [],
   "source": [
    "\n",
    "using LinearAlgebra\n",
    "using GenericLinearAlgebra\n"
   ]
  },
  {
   "cell_type": "code",
   "execution_count": 337,
   "id": "5afeb2b2",
   "metadata": {},
   "outputs": [
    {
     "data": {
      "text/plain": [
       "complete_orthonormal (generic function with 1 method)"
      ]
     },
     "metadata": {},
     "output_type": "display_data"
    }
   ],
   "source": [
    "function complete_orthonormal(U::Matrix{Float64})\n",
    "    d, r = size(U)\n",
    "    r ≤ d || error(\"U deve ter no máximo d colunas\")\n",
    "\n",
    "    r == d && return zeros(Float64, d, 0)   # já completa\n",
    "\n",
    "    # Projeta vetores aleatórios no complemento de span(U)\n",
    "    Z = randn(Float64, d, d - r)\n",
    "    Z .-= U * (U' * Z)                      # remove componente em U\n",
    "\n",
    "    # QR fino garante ortonormalidade\n",
    "    C = Matrix(qr(Z).Q)                  # d × (d−r)\n",
    "    return C\n",
    "end"
   ]
  },
  {
   "cell_type": "code",
   "execution_count": 338,
   "id": "2cc3a2bb",
   "metadata": {},
   "outputs": [
    {
     "data": {
      "text/plain": [
       "build_csd_input_matrix (generic function with 1 method)"
      ]
     },
     "metadata": {},
     "output_type": "display_data"
    }
   ],
   "source": [
    "function build_csd_input_matrix(D1::Matrix{Float64}, D2::Matrix{Float64})\n",
    "    # Dimensões\n",
    "    m, d = size(D1)  # D1: m x d\n",
    "    n, _ = size(D2)  # D2: n x d\n",
    "\n",
    "    # Passo 1: QR de D1^T para obter base de R(D1) em R^d\n",
    "    Q1 = Matrix(qr(D1').Q)  # Q1 é d x m\n",
    "    R1 = Matrix(qr(D1').R)  # R1 é m x m\n",
    "\n",
    "    println(\"Q1: \", size(Q1))  # Debugging: verificar tamanho de Q1\n",
    "    println(\"R1: \", size(R1))  # Debugging: verificar tamanho de R1\n",
    "\n",
    "    r1 = sum(abs.(diag(R1)) .> eps() * maximum(abs.(diag(R1))))  # Estimar posto\n",
    "    E1 = Q1[:, 1:r1]  \n",
    "    E2 = complete_orthonormal(E1)  # Base ortonormal completa para R^d, d x (d - r1)\n",
    "    E = hcat(E1, E2)  # Base ortonormal completa para R^d, d x d\n",
    "    \n",
    "    # Passo 2: QR de D2^T para obter base de R(D2) em R^d\n",
    "    Q2 = Matrix(qr(D2').Q)  # Q2 é d x n\n",
    "    R2 = Matrix(qr(D2').R)  # R2 é n x n\n",
    "\n",
    "    println(\"Q2: \", size(Q2))  # Debugging: verificar tamanho de Q2\n",
    "    println(\"R2: \", size(R2))  # Debugging: verificar tamanho de R2\n",
    "\n",
    "    c1 = sum(abs.(diag(R2)) .> eps() * maximum(abs.(diag(R2))))  # Estimar posto\n",
    "    F1 = Q2[:, 1:c1]  \n",
    "    F2 = complete_orthonormal(F1)  # Base ortonormal completa para R^d, d x (d - c1)\n",
    "    \n",
    "\n",
    "    # Passo 3: Calcular Q11 = E1^T F1\n",
    "    Q11 = E1' * F1  # r1 x c1\n",
    "    Q12 = E1' * F2  # r1 x (d - c1)\n",
    "    Q21 = E2' * F1  # (d - r1) x c1\n",
    "    Q22 = E2' * F2  # (d - r1) x (d - c1)\n",
    "\n",
    "    # Passo 4: Concatenar Q11, Q12, Q21, Q22\n",
    "    Qtop = hcat(Q11, Q12)\n",
    "    Qbot = hcat(Q21, Q22)\n",
    "    Q = vcat(Qtop, Qbot)\n",
    "    \n",
    "    return Q, r1, c1, E, E1, F1, R1, R2\n",
    "end"
   ]
  },
  {
   "cell_type": "code",
   "execution_count": 339,
   "id": "1e8a8c3a",
   "metadata": {},
   "outputs": [
    {
     "name": "stdout",
     "output_type": "stream",
     "text": [
      "Q1: (500, 100)\n",
      "R1: (100, 100)\n",
      "Q2: (500, 100)\n",
      "R2: (100, 100)\n"
     ]
    },
    {
     "data": {
      "text/plain": [
       "([-0.05011037246017392 -0.03382373958515126 … 0.0071276254757617966 0.01892842319961343; -0.02199437066761421 -0.01760639363517051 … 0.030694847570907235 0.019094389385542407; … ; 0.08215977746321437 -0.020525020343034453 … -0.06233549817396504 -0.026025129666633347; 0.00031968117962985834 0.008151749463694364 … 0.029901544051093323 -0.03435009582907646], 100, 100, [-0.009895503410297657 0.03134405192226304 … 0.03128332557127645 -0.025387585887279303; -0.017196790226170326 -0.04730778856866724 … -0.08592083399870422 0.010366437996958397; … ; -0.02345386228572229 -0.016818062712386214 … -0.012865095452347484 -0.0705507472052162; -0.015420517673843757 -0.017043241357255764 … 0.07280756205144148 0.04206018400950789], [-0.009895503410297657 0.03134405192226304 … -0.024987473452282114 0.037173760396172165; -0.017196790226170326 -0.04730778856866724 … 0.012510029581356271 -0.029307753854120704; … ; -0.02345386228572229 -0.016818062712386214 … 0.019274985883682802 0.0981362773421699; -0.015420517673843757 -0.017043241357255764 … 0.016809008954117813 0.019051322509755622], [-0.04096131819847648 0.04696293735493265 … -0.0540321398097723 -0.026929563726799135; 0.029468361650868923 -0.03332302336876203 … -0.0158509449832057 -0.005192413225981599; … ; 0.005016169884875383 0.04432903122739942 … 0.02050160681169862 -0.04206510756532167; -0.04639914694536673 0.012596539439073863 … -0.008704681782165354 0.06965586298723782], [23.8286506816538 -0.6548123765744535 … -0.5539312599724551 -0.6364413555400572; 0.0 -22.15873340502861 … 0.21623911903602855 -1.0506164170482362; … ; 0.0 0.0 … 20.352670435951765 -1.1795448363731227; 0.0 0.0 … 0.0 -19.72619135479605], [-21.904274641058315 -1.7278478035215294 … -0.2518399665402445 0.23167890700260863; 0.0 -22.704811679695133 … 0.9886267109415995 0.10619512199225767; … ; 0.0 0.0 … -20.068692506943453 1.653711254809005; 0.0 0.0 … 0.0 -19.666863614485848])"
      ]
     },
     "metadata": {},
     "output_type": "display_data"
    }
   ],
   "source": [
    "# Exemplo com dados aleatórios\n",
    "n = 100  # amostras dos datasets\n",
    "d = 500  # número de features\n",
    "\n",
    "D1 = randn(n, d)  # dataset 1\n",
    "D2 = randn(n, d)  # dataset 2\n",
    "\n",
    "Q, r1, c1, E, E1, F1, R1, R2 = build_csd_input_matrix(D1, D2)"
   ]
  },
  {
   "cell_type": "code",
   "execution_count": 340,
   "id": "fc5e5509",
   "metadata": {},
   "outputs": [
    {
     "data": {
      "text/plain": [
       "(500, 500)"
      ]
     },
     "metadata": {},
     "output_type": "display_data"
    },
    {
     "name": "stdout",
     "output_type": "stream",
     "text": [
      "Posto de D1: 100\n",
      "Posto de D2: 100\n",
      "Tamanho de E: (500, 500)\n",
      "Tamanho de E1: (500, 100)\n",
      "Tamanho de F1: (500, 100)\n",
      "Tamanho de R1: (100, 100)\n",
      "Tamanho de R2: (100, 100)\n"
     ]
    }
   ],
   "source": [
    "display(size(Q))  # Verifica o tamanho da matriz Q\n",
    "println(\"Posto de D1: \", r1)\n",
    "println(\"Posto de D2: \", c1)\n",
    "println(\"Tamanho de E: \", size(E))  # Verifica o tamanho da base ortonormal completa E\n",
    "println(\"Tamanho de E1: \", size(E1))  # Verifica o tamanho de E1\n",
    "println(\"Tamanho de F1: \", size(F1))  # Verifica o tamanho de E2\n",
    "println(\"Tamanho de R1: \", size(R1))  # Verifica o tamanho de R1\n",
    "println(\"Tamanho de R2: \", size(R2))  # Verifica o tamanho de R2"
   ]
  },
  {
   "cell_type": "code",
   "execution_count": 341,
   "id": "36b83df5",
   "metadata": {},
   "outputs": [
    {
     "name": "stdout",
     "output_type": "stream",
     "text": [
      "R1' * E1' é aproximadamente igual a D1\n"
     ]
    }
   ],
   "source": [
    "# Verificar se R1' * E1' é aproximadamente igual a D1\n",
    "if R1'*E1' ≈ D1\n",
    "    println(\"R1' * E1' é aproximadamente igual a D1\")\n",
    "else\n",
    "    println(\"R1' * E1' é diferente de D1\")\n",
    "end"
   ]
  },
  {
   "cell_type": "code",
   "execution_count": 342,
   "id": "dae7a61e",
   "metadata": {},
   "outputs": [
    {
     "data": {
      "text/plain": [
       "rebuild_datasets_matrices (generic function with 1 method)"
      ]
     },
     "metadata": {},
     "output_type": "display_data"
    }
   ],
   "source": [
    "function rebuild_datasets_matrices(E, R)\n",
    "    D_reconstructed = R' * E'  \n",
    "    # Retornar a matriz reconstruída\n",
    "    return D_reconstructed\n",
    "end"
   ]
  },
  {
   "cell_type": "code",
   "execution_count": 343,
   "id": "b0d7d908",
   "metadata": {},
   "outputs": [
    {
     "data": {
      "text/plain": [
       "verify_Q (generic function with 1 method)"
      ]
     },
     "metadata": {},
     "output_type": "display_data"
    }
   ],
   "source": [
    "function verify_Q(Q::Matrix{Float64})\n",
    "    if Q'*Q ≈ I\n",
    "        println(\"A matriz Q é ortonormal\")\n",
    "    else\n",
    "        println(\"A matriz Q não é ortonormal\")\n",
    "        \n",
    "    end\n",
    "end"
   ]
  },
  {
   "cell_type": "code",
   "execution_count": 344,
   "id": "7eaecc7e",
   "metadata": {},
   "outputs": [
    {
     "name": "stdout",
     "output_type": "stream",
     "text": [
      "A matriz Q é ortonormal\n",
      "As matrizes reconstruídas são equivalentes às originais!\n"
     ]
    }
   ],
   "source": [
    "# Exibir e verificar a corretude da matriz A\n",
    "verify_Q(Q)\n",
    "D1_reconstructed = rebuild_datasets_matrices(E1, R1)\n",
    "D2_reconstructed = rebuild_datasets_matrices(F1, R2)\n",
    "\n",
    "if D1_reconstructed ≈ D1 && D2_reconstructed ≈ D2\n",
    "    println(\"As matrizes reconstruídas são equivalentes às originais!\")\n",
    "else\n",
    "    println(\"As matrizes reconstruídas NÃO são equivalentes às originais.\")\n",
    "        \n",
    "end"
   ]
  },
  {
   "cell_type": "code",
   "execution_count": 345,
   "id": "0ff25d43",
   "metadata": {},
   "outputs": [
    {
     "data": {
      "text/plain": [
       "csd (generic function with 2 methods)"
      ]
     },
     "metadata": {},
     "output_type": "display_data"
    }
   ],
   "source": [
    "function csd(Q, c1, r1, E)\n",
    "    d= size(Q, 1)  # Dimensão do espaço\n",
    "    # separar Q em blocos\n",
    "    Q11 = Q[1:r1, 1:c1]  # r1 x c1\n",
    "    Q12 = Q[1:r1, c1+1:end]  # r1 x (d - c1)\n",
    "    Q21 = Q[r1+1:end, 1:c1]  # ( d - r1) x c1\n",
    "    Q22 = Q[r1+1:end, c1+1:end]  # (d - r1) x (d - c1)\n",
    "\n",
    "    # SVD dos blocos de Q = EᵀF\n",
    "    U1, S11, V1 = svd(Q11; full=true)     \n",
    "    U2, S22, V2  = svd(Q22; full=true)\n",
    "\n",
    "    D11 = U1' * Q11 * V1\n",
    "    D12 = U1' * Q12 * V2 \n",
    "    D21 = U2' * Q21 * V1\n",
    "    D22 = U2' * Q22 * V2\n",
    "    \n",
    "    # Monta matriz diagonalizada D via blocos projetados\n",
    "    D_top = hcat(D11, D12)  # r1 x d\n",
    "    D_bot = hcat(D21, D22)  # (d - r1) x (d - c1)\n",
    "    D = vcat(D_top, D_bot)  # d × d\n",
    "\n",
    "    # Constrói matriz U unificada\n",
    "    U = Matrix{Float64}(I, d, d)\n",
    "    U[1:r1, 1:r1] = U1\n",
    "    U[r1+1:end, r1+1:end] = U2\n",
    "    \n",
    "    # Constrói matriz V unificada\n",
    "    V= Matrix{Float64}(I, d, d)\n",
    "    V[1:c1, 1:c1] = V1\n",
    "    V[c1+1:end, c1+1:end] = V2\n",
    "    \n",
    "    # Calcula os ângulos θ entre os subespaços\n",
    "    θ_rad = acos.(clamp.(S11, -1.0, 1.0))\n",
    "    θ_deg = θ_rad .* (180 / π)\n",
    "\n",
    "    # Reconstrói a rotação W que leva E1 → F1\n",
    "    W = E * U * D * U' * E'\n",
    "\n",
    "\n",
    "    return U, U1, U2, V, V1, V2, D, θ_deg, W  \n",
    "end"
   ]
  },
  {
   "cell_type": "code",
   "execution_count": 346,
   "id": "d1f5046d",
   "metadata": {},
   "outputs": [
    {
     "data": {
      "text/plain": [
       "([0.10208676082196175 0.03410152788589936 … 0.0 0.0; 0.13235600794951236 0.07174117855937553 … 0.0 0.0; … ; 0.0 0.0 … 0.002746516320802585 0.0342833576581628; 0.0 0.0 … 0.012374123272849468 -0.024870670441100567], [0.10208676082196175 0.03410152788589936 … 0.16505957940540783 0.06349279535281956; 0.13235600794951236 0.07174117855937553 … 0.062092948297010175 -0.0415084153955878; … ; -0.21786647338568405 -0.018091279818020965 … -0.022487325728762178 0.09192889052517922; 0.2023605785830218 -0.13871604846654953 … -0.019457907832094105 -0.20758946976259626], [0.10525053962884086 -0.08049685469065275 … -0.008469796297032229 0.06309735725201754; -0.023539170260942027 0.09166064274856553 … 0.011559896076486742 0.04493553829996524; … ; -0.04697026045482894 0.06588065023844794 … 0.002746516320802585 0.0342833576581628; -0.006206519136386514 0.01934809682358285 … 0.012374123272849468 -0.024870670441100567], [0.021657842849174047 -0.016564515017460004 … 0.0 0.0; 0.0298326272637828 0.13757713153523288 … 0.0 0.0; … ; 0.0 0.0 … 0.008645677309656607 0.04407861704477318; 0.0 0.0 … -0.02899469691355647 -0.04980163676373278], [0.021657842849174047 -0.016564515017460004 … 0.09402339005344053 0.1065241701873984; 0.0298326272637828 0.13757713153523288 … -0.07682936735287409 -0.059731334597232094; … ; -0.06274883801282334 -0.06441131408319041 … 0.0704750438301239 0.018729132496608306; 0.054680621017170694 -0.1764418806552513 … 0.027966341134148587 0.06124912099010438], [-1.7030047327052343e-14 0.0 … -0.026638820556739915 0.07356021194558139; -0.005956163202763615 -0.03404225729561272 … 0.05156371133226244 -0.038314174636850135; … ; 0.0006115821960236871 0.0355754549881689 … 0.008645677309656607 0.04407861704477318; -0.024709668477339977 -0.015142511629307985 … -0.02899469691355647 -0.04980163676373278], [0.7835604672586929 -1.2637616437711015e-16 … -1.1058862159352145e-15 6.807054919732991e-15; -7.052120227007577e-17 0.7568425688664682 … -1.5278577014665728e-15 4.7704895589362195e-15; … ; -5.3265007581144354e-15 1.9922460189443443e-15 … 0.011404288657225252 2.6400322900022033e-17; 6.4808364262155294e-15 -2.1381294109878885e-15 … 3.8502729650391476e-17 0.006135544993248369], [38.41226558473219, 40.81336913549106, 41.01518020431577, 42.13269775256886, 42.51695086676158, 43.69400693301058, 44.45824566927296, 44.99567588447286, 45.37200252805409, 46.089567168804024  …  85.44319735488476, 85.80332979434046, 86.17770765058768, 86.89805067425696, 87.42281333460018, 88.18575576420606, 88.56301754907224, 89.21092789433564, 89.34656822708699, 89.64845696121589], [0.757297037265097 0.025466902731575806 … 0.00357676334704881 -0.0345440418701481; -0.05860469762078309 0.7585258162928259 … -0.0057808397492110225 0.006197971378780278; … ; 0.013558600985198364 0.013120457185102158 … 0.7443908890751975 0.018953024620453552; -0.016234736391348654 0.016233111348121262 … -0.005776990057210327 0.7210045981997067])"
      ]
     },
     "metadata": {},
     "output_type": "display_data"
    }
   ],
   "source": [
    "U, U1, U2, V, V1, V2, D, θ, W =csd(Q, c1, r1, E)"
   ]
  },
  {
   "cell_type": "code",
   "execution_count": 347,
   "id": "e2d7ef03",
   "metadata": {},
   "outputs": [
    {
     "name": "stdout",
     "output_type": "stream",
     "text": [
      "Ângulos principais entre subespaços (em graus): [38.41226558473219, 40.81336913549106, 41.01518020431577, 42.13269775256886, 42.51695086676158, 43.69400693301058, 44.45824566927296, 44.99567588447286, 45.37200252805409, 46.089567168804024, 46.894106374518685, 47.25911585097456, 48.03464107427265, 48.56078857884162, 48.943960235219535, 49.890817794774286, 50.24751733215085, 50.686384366931605, 51.57176466582555, 52.289331492035004, 52.58823270257033, 52.686348584163326, 53.12964422283068, 54.378934829910285, 54.60440834544437, 54.98894310309453, 55.90415369115849, 55.98741902678928, 56.16742853820614, 56.92626114205597, 57.40961784208407, 58.20010247585518, 58.835645447329036, 59.05824060394099, 59.29316510294142, 59.85896374243768, 60.568050329638844, 60.928380234827074, 61.4848178363437, 62.354459586225396, 62.66982374097205, 63.15903492267742, 63.33580583428889, 63.85940588651102, 64.45564801283209, 65.46242996342595, 65.50227914695185, 66.13368154149187, 66.59864176390919, 67.35218210419593, 67.79284571369072, 68.0552381877502, 68.5442153459137, 68.85544561401709, 68.91334899680359, 69.82404073166163, 70.16425625709746, 70.62631743938319, 71.25595341940303, 71.51776765869393, 71.82628930364424, 72.75283399328332, 72.98691506363146, 73.6074913802527, 73.8623313081938, 74.08458226123268, 74.64237854557346, 74.91529020636848, 75.86378278115173, 75.96000053184589, 76.43274329730914, 77.16239804019031, 77.75895184381496, 78.05559705275945, 78.23806731739748, 79.02081599354023, 79.51648044987002, 79.71279037200443, 79.98520842596147, 80.3423991769825, 80.80026118273459, 81.14422811989894, 81.24018159919164, 81.95227646462483, 82.52123347989236, 82.87046267441126, 83.54257869551556, 83.80851987115324, 84.1443995906119, 84.9356734277365, 85.44319735488476, 85.80332979434046, 86.17770765058768, 86.89805067425696, 87.42281333460018, 88.18575576420606, 88.56301754907224, 89.21092789433564, 89.34656822708699, 89.64845696121589]\n",
      "tamanho de U: (500, 500)\n",
      "tamanho de U1: (100, 100)\n",
      "tamanho de U2: (400, 400)\n",
      "tamanho de V: (500, 500)\n",
      "tamanho de V1: (100, 100)\n",
      "tamanho de V2: (400, 400)\n",
      "tamanho de D: (500, 500)\n",
      "tamanho de W: (500, 500)\n"
     ]
    }
   ],
   "source": [
    "println(\"Ângulos principais entre subespaços (em graus): \", θ)\n",
    "println(\"tamanho de U: \", size(U))\n",
    "println(\"tamanho de U1: \", size(U1))\n",
    "println(\"tamanho de U2: \", size(U2))\n",
    "println(\"tamanho de V: \", size(V))\n",
    "println(\"tamanho de V1: \", size(V1))\n",
    "println(\"tamanho de V2: \", size(V2))\n",
    "println(\"tamanho de D: \", size(D))\n",
    "println(\"tamanho de W: \", size(W))"
   ]
  },
  {
   "cell_type": "code",
   "execution_count": 348,
   "id": "f10777a3",
   "metadata": {},
   "outputs": [
    {
     "data": {
      "text/plain": [
       "100-element Vector{Float64}:\n",
       " 38.41226558473219\n",
       " 40.81336913549106\n",
       " 41.01518020431577\n",
       " 42.13269775256886\n",
       " 42.51695086676158\n",
       " 43.69400693301058\n",
       " 44.45824566927296\n",
       " 44.99567588447286\n",
       " 45.37200252805409\n",
       " 46.089567168804024\n",
       "  ⋮\n",
       " 85.80332979434046\n",
       " 86.17770765058768\n",
       " 86.89805067425696\n",
       " 87.42281333460018\n",
       " 88.18575576420606\n",
       " 88.56301754907224\n",
       " 89.21092789433564\n",
       " 89.34656822708699\n",
       " 89.64845696121589"
      ]
     },
     "metadata": {},
     "output_type": "display_data"
    },
    {
     "data": {
      "text/plain": [
       "true"
      ]
     },
     "metadata": {},
     "output_type": "display_data"
    },
    {
     "name": "stdout",
     "output_type": "stream",
     "text": [
      "U * D * V' ≈ Q = true\n",
      "W * E1 * U1 * V1' ≈ F1 = true\n"
     ]
    },
    {
     "data": {
      "text/plain": [
       "true"
      ]
     },
     "metadata": {},
     "output_type": "display_data"
    }
   ],
   "source": [
    "display(θ)                 # Ângulos principais entre subespaços (em radianos)\n",
    "@show(U*D*V' ≈ Q) \n",
    "display(norm(W-I) ≈ norm(D-I))  # Deve ser próximo de 0 (rotação direta correta)\n",
    "@show W*E1*U1*V1' ≈ F1 "
   ]
  },
  {
   "cell_type": "code",
   "execution_count": 352,
   "id": "19bfba74",
   "metadata": {},
   "outputs": [
    {
     "name": "stdout",
     "output_type": "stream",
     "text": [
      "A matriz D2 reconstruída a partir da rotação é equivalente à original!\n"
     ]
    }
   ],
   "source": [
    "D2_reconstructed_from_rotation = rebuild_datasets_matrices(W*E1*U1*V1', R2)\n",
    "\n",
    "if  D2_reconstructed_from_rotation ≈ D2\n",
    "    println(\"A matriz D2 reconstruída a partir da rotação é equivalente à original!\")\n",
    "else\n",
    "    println(\"A matriz D2 reconstruída a partir da rotação NÃO é equivalente à original.\")\n",
    "end"
   ]
  }
 ],
 "metadata": {
  "kernelspec": {
   "display_name": "Julia 1.10.2",
   "language": "julia",
   "name": "julia-1.10"
  },
  "language_info": {
   "file_extension": ".jl",
   "mimetype": "application/julia",
   "name": "julia",
   "version": "1.10.2"
  }
 },
 "nbformat": 4,
 "nbformat_minor": 5
}
