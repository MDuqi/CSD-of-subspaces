{
 "cells": [
  {
   "cell_type": "code",
   "execution_count": 291,
   "id": "c9514414",
   "metadata": {},
   "outputs": [],
   "source": [
    "\n",
    "using LinearAlgebra\n",
    "using GenericLinearAlgebra\n"
   ]
  },
  {
   "cell_type": "code",
   "execution_count": 292,
   "id": "5afeb2b2",
   "metadata": {},
   "outputs": [
    {
     "data": {
      "text/plain": [
       "complete_orthonormal (generic function with 1 method)"
      ]
     },
     "metadata": {},
     "output_type": "display_data"
    }
   ],
   "source": [
    "function complete_orthonormal(U::Matrix{Float64})\n",
    "    d, r = size(U)\n",
    "    r ≤ d || error(\"U deve ter no máximo d colunas\")\n",
    "\n",
    "    r == d && return zeros(Float64, d, 0)   # já completa\n",
    "\n",
    "    # Projeta vetores aleatórios no complemento de span(U)\n",
    "    Z = randn(Float64, d, d - r)\n",
    "    Z .-= U * (U' * Z)                      # remove componente em U\n",
    "\n",
    "    # QR fino garante ortonormalidade\n",
    "    C = Matrix(qr(Z).Q)                  # d × (d−r)\n",
    "    return C\n",
    "end"
   ]
  },
  {
   "cell_type": "code",
   "execution_count": 293,
   "id": "2cc3a2bb",
   "metadata": {},
   "outputs": [
    {
     "data": {
      "text/plain": [
       "build_csd_input_matrix (generic function with 1 method)"
      ]
     },
     "metadata": {},
     "output_type": "display_data"
    }
   ],
   "source": [
    "function build_csd_input_matrix(D1::Matrix{Float64}, D2::Matrix{Float64})\n",
    "    # Dimensões\n",
    "    m, d = size(D1)  # D1: m x d\n",
    "    n, _ = size(D2)  # D2: n x d\n",
    "\n",
    "    # Passo 1: QR de D1^T para obter base de R(D1) em R^d\n",
    "    Q1 = Matrix(qr(D1').Q)  # Q1 é d x m\n",
    "    R1 = Matrix(qr(D1').R)  # R1 é m x m\n",
    "\n",
    "    println(\"Q1: \", size(Q1))  # Debugging: verificar tamanho de Q1\n",
    "    println(\"R1: \", size(R1))  # Debugging: verificar tamanho de R1\n",
    "\n",
    "    r1 = sum(abs.(diag(R1)) .> eps() * maximum(abs.(diag(R1))))  # Estimar posto\n",
    "    E1 = Q1[:, 1:r1]  \n",
    "    E2 = complete_orthonormal(E1)  # Base ortonormal completa para R^d, d x (d - r1)\n",
    "    E = hcat(E1, E2)  # Base ortonormal completa para R^d, d x d\n",
    "    \n",
    "    # Passo 2: QR de D2^T para obter base de R(D2) em R^d\n",
    "    Q2 = Matrix(qr(D2').Q)  # Q2 é d x n\n",
    "    R2 = Matrix(qr(D2').R)  # R2 é n x n\n",
    "\n",
    "    println(\"Q2: \", size(Q2))  # Debugging: verificar tamanho de Q2\n",
    "    println(\"R2: \", size(R2))  # Debugging: verificar tamanho de R2\n",
    "\n",
    "    c1 = sum(abs.(diag(R2)) .> eps() * maximum(abs.(diag(R2))))  # Estimar posto\n",
    "    F1 = Q2[:, 1:c1]  \n",
    "    F2 = complete_orthonormal(F1)  # Base ortonormal completa para R^d, d x (d - c1)\n",
    "    \n",
    "\n",
    "    # Passo 3: Calcular Q11 = E1^T F1\n",
    "    Q11 = E1' * F1  # r1 x c1\n",
    "    Q12 = E1' * F2  # r1 x (d - c1)\n",
    "    Q21 = E2' * F1  # (d - r1) x c1\n",
    "    Q22 = E2' * F2  # (d - r1) x (d - c1)\n",
    "\n",
    "    # Passo 4: Concatenar Q11, Q12, Q21, Q22\n",
    "    Qtop = hcat(Q11, Q12)\n",
    "    Qbot = hcat(Q21, Q22)\n",
    "    Q = vcat(Qtop, Qbot)\n",
    "    \n",
    "    return Q, r1, c1, E, E1, F1, R1, R2\n",
    "end"
   ]
  },
  {
   "cell_type": "code",
   "execution_count": 294,
   "id": "1e8a8c3a",
   "metadata": {},
   "outputs": [
    {
     "name": "stdout",
     "output_type": "stream",
     "text": [
      "Q1: (50, 10)\n",
      "R1: (10, 10)\n",
      "Q2: (50, 10)\n",
      "R2: (10, 10)\n"
     ]
    },
    {
     "data": {
      "text/plain": [
       "([0.05757245502941141 -0.07196626902948877 … 0.04079125044842743 0.012685959408021315; 0.1544531653437436 -0.2245030549746553 … -0.0706288661924742 -0.08037899842005644; … ; 0.302672615103471 0.3208591357428787 … -0.11404880388828759 0.13287315553651932; 0.04975533343232731 0.036193371568234614 … 0.16767191133009338 -0.058433733831021], 10, 10, [-0.17532902833657094 -0.11376122488441215 … 0.18858031959928198 -0.04609197681322293; 0.11129230601318629 0.0020358116890105693 … -0.016962002297662336 0.09352360302224018; … ; 0.0660739654012759 0.1985982581312741 … 0.05171661895569457 -0.029366991755677252; -0.08933978221691871 -0.03076502158231202 … 0.2692439095399951 -0.236460743382251], [-0.17532902833657094 -0.11376122488441215 … -0.07937360656417568 0.044231138702821235; 0.11129230601318629 0.0020358116890105693 … -0.049396378890456144 -0.18012355183095777; … ; 0.0660739654012759 0.1985982581312741 … -0.24882107117258728 0.2353278407603851; -0.08933978221691871 -0.03076502158231202 … -0.08090492104574132 0.2390433170871233], [-0.11643063456737601 -0.2180283269081807 … -0.16918094631096775 0.05565550793786449; 0.15681725140677322 -0.17536427976362434 … -0.045008244274562 -0.11356963412397471; … ; 0.34689867956587267 -0.1107141644470731 … 0.13951626235503714 0.012198535811392743; 0.03324208373551606 0.06961140176192805 … 0.08278807984629565 -0.1421459056658016], [7.779289857476249 1.0872147880023335 … -0.5462811088091022 1.1831937207781222; 0.0 -6.854745390879053 … 1.1726405382671201 0.6034204401740748; … ; 0.0 0.0 … 6.9903692662979395 0.19759564688638198; 0.0 0.0 … 0.0 6.00110296194851], [7.354013904275615 0.5180654573685068 … -0.5625741092068014 -0.36938597045161026; 0.0 7.253195198151889 … -1.0875701522459145 0.525676846333887; … ; 0.0 0.0 … 6.171786872402667 -1.3871828476521406; 0.0 0.0 … 0.0 7.156321912605246])"
      ]
     },
     "metadata": {},
     "output_type": "display_data"
    }
   ],
   "source": [
    "# Exemplo com dados aleatórios\n",
    "n = 10  # amostras dos datasets\n",
    "d = 50  # número de features\n",
    "\n",
    "D1 = randn(n, d)  # dataset 1\n",
    "D2 = randn(n, d)  # dataset 2\n",
    "\n",
    "Q, r1, c1, E, E1, F1, R1, R2 = build_csd_input_matrix(D1, D2)"
   ]
  },
  {
   "cell_type": "code",
   "execution_count": 295,
   "id": "fc5e5509",
   "metadata": {},
   "outputs": [
    {
     "data": {
      "text/plain": [
       "(50, 50)"
      ]
     },
     "metadata": {},
     "output_type": "display_data"
    },
    {
     "name": "stdout",
     "output_type": "stream",
     "text": [
      "Posto de D1: 10\n",
      "Posto de D2: 10\n",
      "Tamanho de E: (50, 50)\n",
      "Tamanho de E1: (50, 10)\n",
      "Tamanho de F1: (50, 10)\n",
      "Tamanho de R1: (10, 10)\n",
      "Tamanho de R2: (10, 10)\n"
     ]
    }
   ],
   "source": [
    "display(size(Q))  # Verifica o tamanho da matriz Q\n",
    "println(\"Posto de D1: \", r1)\n",
    "println(\"Posto de D2: \", c1)\n",
    "println(\"Tamanho de E: \", size(E))  # Verifica o tamanho da base ortonormal completa E\n",
    "println(\"Tamanho de E1: \", size(E1))  # Verifica o tamanho de E1\n",
    "println(\"Tamanho de F1: \", size(F1))  # Verifica o tamanho de E2\n",
    "println(\"Tamanho de R1: \", size(R1))  # Verifica o tamanho de R1\n",
    "println(\"Tamanho de R2: \", size(R2))  # Verifica o tamanho de R2"
   ]
  },
  {
   "cell_type": "code",
   "execution_count": 296,
   "id": "36b83df5",
   "metadata": {},
   "outputs": [
    {
     "name": "stdout",
     "output_type": "stream",
     "text": [
      "R1' * E1' é aproximadamente igual a D1\n"
     ]
    }
   ],
   "source": [
    "# Verificar se R1' * E1' é aproximadamente igual a D1\n",
    "if R1'*E1' ≈ D1\n",
    "    println(\"R1' * E1' é aproximadamente igual a D1\")\n",
    "else\n",
    "    println(\"R1' * E1' é diferente de D1\")\n",
    "end"
   ]
  },
  {
   "cell_type": "code",
   "execution_count": 297,
   "id": "dae7a61e",
   "metadata": {},
   "outputs": [
    {
     "data": {
      "text/plain": [
       "rebuild_datasets_matrices (generic function with 1 method)"
      ]
     },
     "metadata": {},
     "output_type": "display_data"
    }
   ],
   "source": [
    "function rebuild_datasets_matrices(E, R)\n",
    "    D_reconstructed = R' * E'  \n",
    "    # Retornar a matriz reconstruída\n",
    "    return D_reconstructed\n",
    "end"
   ]
  },
  {
   "cell_type": "code",
   "execution_count": 298,
   "id": "b0d7d908",
   "metadata": {},
   "outputs": [
    {
     "data": {
      "text/plain": [
       "verify_Q (generic function with 1 method)"
      ]
     },
     "metadata": {},
     "output_type": "display_data"
    }
   ],
   "source": [
    "function verify_Q(Q::Matrix{Float64})\n",
    "    if Q'*Q ≈ I\n",
    "        println(\"A matriz Q é ortonormal\")\n",
    "    else\n",
    "        println(\"A matriz Q não é ortonormal\")\n",
    "        \n",
    "    end\n",
    "end"
   ]
  },
  {
   "cell_type": "code",
   "execution_count": 299,
   "id": "7eaecc7e",
   "metadata": {},
   "outputs": [
    {
     "name": "stdout",
     "output_type": "stream",
     "text": [
      "A matriz Q é ortonormal\n",
      "As matrizes reconstruídas são equivalentes às originais!\n"
     ]
    }
   ],
   "source": [
    "# Exibir e verificar a corretude da matriz A\n",
    "verify_Q(Q)\n",
    "D1_reconstructed = rebuild_datasets_matrices(E1, R1)\n",
    "D2_reconstructed = rebuild_datasets_matrices(F1, R2)\n",
    "\n",
    "if D1_reconstructed ≈ D1 && D2_reconstructed ≈ D2\n",
    "    println(\"As matrizes reconstruídas são equivalentes às originais!\")\n",
    "else\n",
    "    println(\"As matrizes reconstruídas NÃO são equivalentes às originais.\")\n",
    "        \n",
    "end"
   ]
  },
  {
   "cell_type": "code",
   "execution_count": 300,
   "id": "0ff25d43",
   "metadata": {},
   "outputs": [
    {
     "data": {
      "text/plain": [
       "csd (generic function with 2 methods)"
      ]
     },
     "metadata": {},
     "output_type": "display_data"
    }
   ],
   "source": [
    "function csd(Q, c1, r1, E)\n",
    "    d= size(Q, 1)  # Dimensão do espaço\n",
    "    # separar Q em blocos\n",
    "    Q11 = Q[1:r1, 1:c1]  # r1 x c1\n",
    "    Q12 = Q[1:r1, c1+1:end]  # r1 x (d - c1)\n",
    "    Q21 = Q[r1+1:end, 1:c1]  # ( d - r1) x c1\n",
    "    Q22 = Q[r1+1:end, c1+1:end]  # (d - r1) x (d - c1)\n",
    "\n",
    "    # SVD dos blocos de Q = EᵀF\n",
    "    U1, S11, V1 = svd(Q11; full=true)     \n",
    "    U2, S22, V2  = svd(Q22; full=true)\n",
    "\n",
    "    D11 = U1' * Q11 * V1\n",
    "    D12 = U1' * Q12 * V2 \n",
    "    D21 = U2' * Q21 * V1\n",
    "    D22 = U2' * Q22 * V2\n",
    "    \n",
    "    # Monta matriz diagonalizada D via blocos projetados\n",
    "    D_top = hcat(D11, D12)  # r1 x d\n",
    "    D_bot = hcat(D21, D22)  # (d - r1) x (d - c1)\n",
    "    D = vcat(D_top, D_bot)  # d × d\n",
    "\n",
    "    # Constrói matriz U unificada\n",
    "    U = Matrix{Float64}(I, d, d)\n",
    "    U[1:r1, 1:r1] = U1\n",
    "    U[r1+1:end, r1+1:end] = U2\n",
    "    \n",
    "    # Constrói matriz V unificada\n",
    "    V= Matrix{Float64}(I, d, d)\n",
    "    V[1:c1, 1:c1] = V1\n",
    "    V[c1+1:end, c1+1:end] = V2\n",
    "    \n",
    "    # Calcula os ângulos θ entre os subespaços\n",
    "    θ_rad = acos.(clamp.(S11, -1.0, 1.0))\n",
    "    θ_deg = θ_rad .* (180 / π)\n",
    "\n",
    "    # Reconstrói a rotação W que leva E1 → F1\n",
    "    W = E * U * D * U' * E'\n",
    "\n",
    "\n",
    "    return U, U1, U2, V, V1, V2, D, θ_deg, W  \n",
    "end"
   ]
  },
  {
   "cell_type": "code",
   "execution_count": 301,
   "id": "d1f5046d",
   "metadata": {},
   "outputs": [
    {
     "data": {
      "text/plain": [
       "([0.20821539267536313 0.185097314389168 … 0.0 0.0; -0.40717571861997937 0.2880021378730248 … 0.0 0.0; … ; 0.0 0.0 … -0.4197734413302249 0.44361450905679334; 0.0 0.0 … 0.06723143586609646 0.11276056713480694], [0.20821539267536313 0.185097314389168 … 0.18269110357676321 -0.5405636947286412; -0.40717571861997937 0.2880021378730248 … -0.31572231034903725 0.2330741179553038; … ; 0.37682859922890743 -0.018686929313946006 … -0.09048293393559602 0.16379788601199438; -0.5489328842281799 -0.5837143213181492 … 0.28347138121211374 -0.195858718809661], [0.12449030926634644 -0.10302430707613792 … 0.19062568533592714 0.08505789766289765; -0.15916264727343804 -0.01516367675046056 … -0.19467621054061207 -0.34936833331190276; … ; 0.050414778746165664 -0.14564078318429935 … -0.4197734413302249 0.44361450905679334; -0.040516416291134325 -0.3039732571943635 … 0.06723143586609646 0.11276056713480694], [-0.164273091990983 0.40802475039488595 … 0.0 0.0; 0.1566643232726775 -0.07364653204351264 … 0.0 0.0; … ; 0.0 0.0 … 0.016583886965544158 -0.09051053374886116; 0.0 0.0 … -0.13472471829236624 0.09120371167651155], [-0.164273091990983 0.40802475039488595 … -0.0762762661676438 -0.587774341767404; 0.1566643232726775 -0.07364653204351264 … -0.2767675464978974 -0.3744158983455573; … ; -0.05810842117934782 -0.606166441625522 … 0.2299507450854217 -0.47793994936593975; 0.1226039728457333 -0.06404682140550166 … -0.7372103086269214 -0.17218189798523909], [1.1081882133274528e-139 0.0 … -0.030043505033295604 0.13058235851233896; -0.1614665420205529 -0.05927141355411258 … 0.31170383687290737 -0.31387940726301317; … ; 0.038997075141345025 0.07604246798344469 … 0.016583886965544158 -0.09051053374886116; 0.2512333865963761 0.07471754917121959 … -0.13472471829236624 0.09120371167651155], [0.7039225724141659 2.6129556907746147e-16 … -1.992659454094232e-15 1.2448335660268998e-15; 4.035278389404287e-18 0.6189041079519172 … -2.765954538867432e-15 2.18740460761495e-16; … ; 1.5126874426543814e-16 9.729569553618336e-16 … 0.10394003342308011 -5.028908369237619e-17; -1.2722368689121915e-16 -5.701894290378155e-16 … 3.667699671887814e-17 0.007403340422529317], [45.25743409218133, 51.7638492779527, 52.593671191846354, 62.22242235404505, 65.44462302394899, 69.8941410192203, 77.52446534577948, 82.39607395130436, 84.03389920374514, 89.57581596454811], [0.658127914008669 -0.05041571992283151 … -0.10502685961737268 -0.11282028182160703; 0.10451805890699911 0.8083650963945583 … -0.10487467971680742 -0.03709891687757164; … ; 0.18548396564900763 0.055752121930631435 … 0.7133576808593066 0.0052337574414447; 0.18522409384918914 -0.07776871654023418 … -0.053742229226167636 0.798830881244951])"
      ]
     },
     "metadata": {},
     "output_type": "display_data"
    }
   ],
   "source": [
    "U, U1, U2, V, V1, V2, D, θ, W =csd(Q, c1, r1, E)"
   ]
  },
  {
   "cell_type": "code",
   "execution_count": 302,
   "id": "e2d7ef03",
   "metadata": {},
   "outputs": [
    {
     "name": "stdout",
     "output_type": "stream",
     "text": [
      "Ângulos principais entre subespaços (em radianos): [45.25743409218133, 51.7638492779527, 52.593671191846354, 62.22242235404505, 65.44462302394899, 69.8941410192203, 77.52446534577948, 82.39607395130436, 84.03389920374514, 89.57581596454811]\n",
      "tamanho de U: (50, 50)\n",
      "tamanho de U1: (10, 10)\n",
      "tamanho de U2: (40, 40)\n",
      "tamanho de V: (50, 50)\n",
      "tamanho de V1: (10, 10)\n",
      "tamanho de V2: (40, 40)\n",
      "tamanho de D: (50, 50)\n",
      "tamanho de W: (50, 50)\n"
     ]
    }
   ],
   "source": [
    "println(\"Ângulos principais entre subespaços (em radianos): \", θ)\n",
    "println(\"tamanho de U: \", size(U))\n",
    "println(\"tamanho de U1: \", size(U1))\n",
    "println(\"tamanho de U2: \", size(U2))\n",
    "println(\"tamanho de V: \", size(V))\n",
    "println(\"tamanho de V1: \", size(V1))\n",
    "println(\"tamanho de V2: \", size(V2))\n",
    "println(\"tamanho de D: \", size(D))\n",
    "println(\"tamanho de W: \", size(W))"
   ]
  },
  {
   "cell_type": "code",
   "execution_count": 306,
   "id": "f10777a3",
   "metadata": {},
   "outputs": [
    {
     "data": {
      "text/plain": [
       "10-element Vector{Float64}:\n",
       " 45.25743409218133\n",
       " 51.7638492779527\n",
       " 52.593671191846354\n",
       " 62.22242235404505\n",
       " 65.44462302394899\n",
       " 69.8941410192203\n",
       " 77.52446534577948\n",
       " 82.39607395130436\n",
       " 84.03389920374514\n",
       " 89.57581596454811"
      ]
     },
     "metadata": {},
     "output_type": "display_data"
    },
    {
     "name": "stdout",
     "output_type": "stream",
     "text": [
      "U * D * V' ≈ Q = true\n",
      "W * E1 * U1 * V1' ≈ F1 = true\n"
     ]
    },
    {
     "data": {
      "text/plain": [
       "true"
      ]
     },
     "metadata": {},
     "output_type": "display_data"
    },
    {
     "data": {
      "text/plain": [
       "true"
      ]
     },
     "metadata": {},
     "output_type": "display_data"
    }
   ],
   "source": [
    "display(θ)                 # Ângulos principais entre subespaços (em radianos)\n",
    "@show(U*D*V' ≈ Q) \n",
    "display(norm(W-I) ≈ norm(D-I))  # Deve ser próximo de 0 (rotação direta correta)\n",
    "@show W*E1*U1*V1' ≈ F1 "
   ]
  },
  {
   "cell_type": "code",
   "execution_count": 304,
   "id": "19bfba74",
   "metadata": {},
   "outputs": [
    {
     "name": "stdout",
     "output_type": "stream",
     "text": [
      "As matrizes reconstruídas são equivalentes às originais!\n"
     ]
    }
   ],
   "source": [
    "D1_reconstructed = rebuild_datasets_matrices(E1, R1)\n",
    "D2_reconstructed = rebuild_datasets_matrices(F1, R2)\n",
    "\n",
    "if D1_reconstructed ≈ D1 && D2_reconstructed ≈ D2\n",
    "    println(\"As matrizes reconstruídas são equivalentes às originais!\")\n",
    "else\n",
    "    println(\"As matrizes reconstruídas NÃO são equivalentes às originais.\")\n",
    "        \n",
    "end"
   ]
  }
 ],
 "metadata": {
  "kernelspec": {
   "display_name": "Julia 1.10.2",
   "language": "julia",
   "name": "julia-1.10"
  },
  "language_info": {
   "file_extension": ".jl",
   "mimetype": "application/julia",
   "name": "julia",
   "version": "1.10.2"
  }
 },
 "nbformat": 4,
 "nbformat_minor": 5
}
