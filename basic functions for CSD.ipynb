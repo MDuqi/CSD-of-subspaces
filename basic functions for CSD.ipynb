{
 "cells": [
  {
   "cell_type": "code",
   "execution_count": 308,
   "id": "c9514414",
   "metadata": {},
   "outputs": [],
   "source": [
    "\n",
    "using LinearAlgebra\n",
    "using GenericLinearAlgebra\n"
   ]
  },
  {
   "cell_type": "code",
   "execution_count": 309,
   "id": "5afeb2b2",
   "metadata": {},
   "outputs": [
    {
     "data": {
      "text/plain": [
       "complete_orthonormal (generic function with 2 methods)"
      ]
     },
     "metadata": {},
     "output_type": "display_data"
    }
   ],
   "source": [
    "function complete_orthonormal(U::Matrix{Float64})\n",
    "    d, r = size(U)\n",
    "    r ≤ d || error(\"U deve ter no máximo d colunas\")\n",
    "\n",
    "    r == d && return zeros(Float64, d, 0)   # já completa\n",
    "\n",
    "    # Projeta vetores aleatórios no complemento de span(U)\n",
    "    Z = randn(Float64, d, d - r)\n",
    "    Z .-= U * (U' * Z)                      # remove componente em U\n",
    "\n",
    "    # QR fino garante ortonormalidade\n",
    "    C = Matrix(qr(Z).Q)                  # d × (d−r)\n",
    "    return C\n",
    "end"
   ]
  },
  {
   "cell_type": "code",
   "execution_count": 310,
   "id": "2cc3a2bb",
   "metadata": {},
   "outputs": [
    {
     "data": {
      "text/plain": [
       "build_csd_input_matrix (generic function with 1 method)"
      ]
     },
     "metadata": {},
     "output_type": "display_data"
    }
   ],
   "source": [
    "function build_csd_input_matrix(D1::Matrix{Float64}, D2::Matrix{Float64})\n",
    "    # Dimensões\n",
    "    m, d = size(D1)  # D1: m x d\n",
    "    n, _ = size(D2)  # D2: n x d\n",
    "\n",
    "    # Passo 1: QR de D1^T para obter base de R(D1) em R^d\n",
    "    Q1 = Matrix(qr(D1').Q)  # Q1 é d x m\n",
    "    R1 = Matrix(qr(D1').R)  # R1 é m x m\n",
    "\n",
    "    println(\"Q1: \", size(Q1))  # Debugging: verificar tamanho de Q1\n",
    "    println(\"R1: \", size(R1))  # Debugging: verificar tamanho de R1\n",
    "\n",
    "    r1 = sum(abs.(diag(R1)) .> eps() * maximum(abs.(diag(R1))))  # Estimar posto\n",
    "    E1 = Q1[:, 1:r1]  \n",
    "    E2 = complete_orthonormal(E1)  # Base ortonormal completa para R^d, d x (d - r1)\n",
    "\n",
    "    # Passo 2: QR de D2^T para obter base de R(D2) em R^d\n",
    "    Q2 = Matrix(qr(D2').Q)  # Q2 é d x n\n",
    "    R2 = Matrix(qr(D2').R)  # R2 é n x n\n",
    "\n",
    "    println(\"Q2: \", size(Q2))  # Debugging: verificar tamanho de Q2\n",
    "    println(\"R2: \", size(R2))  # Debugging: verificar tamanho de R2\n",
    "\n",
    "    c1 = sum(abs.(diag(R2)) .> eps() * maximum(abs.(diag(R2))))  # Estimar posto\n",
    "    F1 = Q2[:, 1:c1]  \n",
    "    F2 = complete_orthonormal(F1)  # Base ortonormal completa para R^d, d x (d - c1)\n",
    "\n",
    "    # Passo 3: Calcular Q11 = E1^T F1\n",
    "    Q11 = E1' * F1  # r1 x c1\n",
    "    Q12 = E1' * F2  # r1 x (d - c1)\n",
    "    Q21 = E2' * F1  # (d - r1) x c1\n",
    "    Q22 = E2' * F2  # (d - r1) x (d - c1)\n",
    "\n",
    "    # Passo 4: Concatenar Q11, Q12, Q21, Q22\n",
    "    Qtop = hcat(Q11, Q12)\n",
    "    Qbot = hcat(Q21, Q22)\n",
    "    Q = vcat(Qtop, Qbot)\n",
    "    \n",
    "    return Q, r1, c1, E1, F1, R1, R2\n",
    "end"
   ]
  },
  {
   "cell_type": "code",
   "execution_count": 311,
   "id": "1e8a8c3a",
   "metadata": {},
   "outputs": [
    {
     "name": "stdout",
     "output_type": "stream",
     "text": [
      "Q1: (784, 100)\n",
      "R1: (100, 100)\n",
      "Q2: (784, 100)\n",
      "R2: (100, 100)\n"
     ]
    },
    {
     "data": {
      "text/plain": [
       "([-0.004395828887589161 0.026246049017214022 … -0.022861230308363505 0.0022516150596950087; 0.007241232556139617 0.026672116601587054 … 0.032731656253628144 -0.0023310756726590536; … ; -0.0346925316881511 -0.03897390650149207 … 0.008391624359081017 -0.007143344560568445; -0.03086956028926277 0.014543246921978392 … 0.010568326539043243 -0.0284460691613042], 100, 100, [-0.04675970274134977 -0.008620465858658312 … -0.037644401855438984 -0.03036258783237923; -0.0026580440307741662 -0.0404767927993297 … -0.006723231031346106 -0.0066344801386137; … ; -0.016553998527005256 0.01568459951932759 … 0.09841387220110148 -0.0067032370044251945; 0.012891028506355439 0.011331476964166238 … -0.008709837820757751 0.03874725089808202], [-0.06007508971969666 0.0029311341936095053 … -0.056590304714505456 0.00660742552488137; 0.041295183275355994 -0.01060620029208903 … -0.07329281108627204 0.03281478259602441; … ; 0.025588892027770607 -0.05436209972995566 … 0.05808721646777409 -0.07892818651419094; -0.041289255279695514 -0.01391528544382416 … -0.010185629533797768 0.07064318778139507], [27.699278476979252 1.0132343575740608 … 1.0486875197614525 0.3864422345078942; 0.0 -27.69747404659911 … 0.5199337502140076 1.2487615183860568; … ; 0.0 0.0 … -25.80720959781704 -0.08735716415633454; 0.0 0.0 … 0.0 26.017419167671125], [-29.85707466998685 -1.1164310228780518 … -0.47970923511736485 -0.22280187382982242; 0.0 -28.4323279113979 … 1.3330271626064836 1.5325826272313816; … ; 0.0 0.0 … -26.805657098401753 -0.10895455860067171; 0.0 0.0 … 0.0 -25.98711373079628])"
      ]
     },
     "metadata": {},
     "output_type": "display_data"
    }
   ],
   "source": [
    "# Exemplo com dados aleatórios\n",
    "m = 100  # amostras de D1\n",
    "n = 100  # amostras de D2\n",
    "d = 784  # número de features\n",
    "\n",
    "D1 = randn(m, d)  # dataset 1\n",
    "D2 = randn(n, d)  # dataset 2\n",
    "\n",
    "Q, r1, c1, E1, F1, R1, R2 = build_csd_input_matrix(D1, D2)"
   ]
  },
  {
   "cell_type": "code",
   "execution_count": 312,
   "id": "fc5e5509",
   "metadata": {},
   "outputs": [
    {
     "name": "stdout",
     "output_type": "stream",
     "text": [
      "(784, 784)\n",
      "Posto de D1: 100\n",
      "Posto de D2: 100\n",
      "Tamanho de E1: (784, 100)\n",
      "Tamanho de F1: (784, 100)\n",
      "Tamanho de R1: (100, 100)\n",
      "Tamanho de R2: (100, 100)\n"
     ]
    }
   ],
   "source": [
    "println(size(Q))  # Verifica o tamanho da matriz Q\n",
    "println(\"Posto de D1: \", r1)\n",
    "println(\"Posto de D2: \", c1)\n",
    "println(\"Tamanho de E1: \", size(E1))  # Verifica o tamanho de E1\n",
    "println(\"Tamanho de F1: \", size(F1))  # Verifica o tamanho de E2\n",
    "println(\"Tamanho de R1: \", size(R1))  # Verifica o tamanho de R1\n",
    "println(\"Tamanho de R2: \", size(R2))  # Verifica o tamanho de R2"
   ]
  },
  {
   "cell_type": "code",
   "execution_count": 313,
   "id": "36b83df5",
   "metadata": {},
   "outputs": [
    {
     "name": "stdout",
     "output_type": "stream",
     "text": [
      "R1' * E1' é aproximadamente igual a D1\n"
     ]
    }
   ],
   "source": [
    "# Verificar se R1' * E1' é aproximadamente igual a D1\n",
    "if R1'*E1' ≈ D1\n",
    "    println(\"R1' * E1' é aproximadamente igual a D1\")\n",
    "else\n",
    "    println(\"R1' * E1' é diferente de D1\")\n",
    "end"
   ]
  },
  {
   "cell_type": "code",
   "execution_count": 314,
   "id": "dae7a61e",
   "metadata": {},
   "outputs": [
    {
     "data": {
      "text/plain": [
       "rebuild_datasets_matrices (generic function with 4 methods)"
      ]
     },
     "metadata": {},
     "output_type": "display_data"
    }
   ],
   "source": [
    "function rebuild_datasets_matrices(E, R)\n",
    "    D_reconstructed = R' * E'  \n",
    "    # Retornar a matriz reconstruída\n",
    "    return D_reconstructed\n",
    "end"
   ]
  },
  {
   "cell_type": "code",
   "execution_count": 315,
   "id": "b0d7d908",
   "metadata": {},
   "outputs": [
    {
     "data": {
      "text/plain": [
       "verify_Q (generic function with 1 method)"
      ]
     },
     "metadata": {},
     "output_type": "display_data"
    }
   ],
   "source": [
    "function verify_Q(Q::Matrix{Float64})\n",
    "    if Q'*Q ≈ I\n",
    "        println(\"A matriz Q é ortonormal\")\n",
    "    else\n",
    "        println(\"A matriz Q não é ortonormal\")\n",
    "        \n",
    "    end\n",
    "end"
   ]
  },
  {
   "cell_type": "code",
   "execution_count": 316,
   "id": "7eaecc7e",
   "metadata": {},
   "outputs": [
    {
     "name": "stdout",
     "output_type": "stream",
     "text": [
      "A matriz Q é ortonormal\n",
      "As matrizes reconstruídas são equivalentes às originais!\n"
     ]
    }
   ],
   "source": [
    "# Exibir e verificar a corretude da matriz A\n",
    "verify_Q(Q)\n",
    "D1_reconstructed = rebuild_datasets_matrices(E1, R1)\n",
    "D2_reconstructed = rebuild_datasets_matrices(F1, R2)\n",
    "\n",
    "if D1_reconstructed ≈ D1 && D2_reconstructed ≈ D2\n",
    "    println(\"As matrizes reconstruídas são equivalentes às originais!\")\n",
    "else\n",
    "    println(\"As matrizes reconstruídas NÃO são equivalentes às originais.\")\n",
    "        \n",
    "end"
   ]
  }
 ],
 "metadata": {
  "kernelspec": {
   "display_name": "Julia 1.10.2",
   "language": "julia",
   "name": "julia-1.10"
  },
  "language_info": {
   "file_extension": ".jl",
   "mimetype": "application/julia",
   "name": "julia",
   "version": "1.10.2"
  }
 },
 "nbformat": 4,
 "nbformat_minor": 5
}
