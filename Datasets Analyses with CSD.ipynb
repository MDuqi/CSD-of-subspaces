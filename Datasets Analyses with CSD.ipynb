{
 "cells": [
  {
   "cell_type": "code",
   "execution_count": 21,
   "id": "c9514414",
   "metadata": {},
   "outputs": [
    {
     "name": "stderr",
     "output_type": "stream",
     "text": [
      "┌ Warning: Pkg.installed() is deprecated\n",
      "└ @ Pkg C:\\Users\\mathe\\.julia\\juliaup\\julia-1.10.2+0.x64.w64.mingw32\\share\\julia\\stdlib\\v1.10\\Pkg\\src\\Pkg.jl:744\n",
      "┌ Warning: Pkg.installed() is deprecated\n",
      "└ @ Pkg C:\\Users\\mathe\\.julia\\juliaup\\julia-1.10.2+0.x64.w64.mingw32\\share\\julia\\stdlib\\v1.10\\Pkg\\src\\Pkg.jl:744\n",
      "┌ Warning: Pkg.installed() is deprecated\n",
      "└ @ Pkg C:\\Users\\mathe\\.julia\\juliaup\\julia-1.10.2+0.x64.w64.mingw32\\share\\julia\\stdlib\\v1.10\\Pkg\\src\\Pkg.jl:744\n",
      "┌ Warning: Pkg.installed() is deprecated\n",
      "└ @ Pkg C:\\Users\\mathe\\.julia\\juliaup\\julia-1.10.2+0.x64.w64.mingw32\\share\\julia\\stdlib\\v1.10\\Pkg\\src\\Pkg.jl:744\n"
     ]
    }
   ],
   "source": [
    "using Pkg\n",
    "if !haskey(Pkg.installed(), \"Images\") || !haskey(Pkg.installed(), \"ImageMagick\") || !haskey(Pkg.installed(), \"FileIO\") || !haskey(Pkg.installed(), \"Glob\")\n",
    "    println(\"Installing required packages...\")\n",
    "    Pkg.add.([\"Images\", \"ImageMagick\", \"FileIO\", \"Glob\"])\n",
    "end\n",
    "\n",
    "\n",
    "\n",
    "using LinearAlgebra\n",
    "using GenericLinearAlgebra\n",
    "using Images\n",
    "using FileIO\n",
    "using Glob\n",
    "using ImageMagick  # pode ser necessário para JPEG\n"
   ]
  },
  {
   "cell_type": "markdown",
   "id": "d5723497",
   "metadata": {},
   "source": [
    "##  Objetivo\n",
    "\n",
    "Dado uma **matriz unitária ou ortogonal** $A \\in \\mathbb{R}^{(m+n) \\times (p+q)}$, queremos fazer a **CS decomposition**:\n",
    "\n",
    "$$\n",
    "A = \n",
    "\\begin{bmatrix}\n",
    "U_1 & 0 \\\\\n",
    "0 & U_2\n",
    "\\end{bmatrix}\n",
    "\\begin{bmatrix}\n",
    "C & -S & 0 \\\\\n",
    "S & C & 0 \\\\\n",
    "0 & 0 & I\n",
    "\\end{bmatrix}\n",
    "\\begin{bmatrix}\n",
    "V_1^\\top & 0 \\\\\n",
    "0 & V_2^\\top\n",
    "\\end{bmatrix}\n",
    "$$\n",
    "\n",
    "Esse é o caso mais geral (com bloco identidade no final se sobrarem dimensões), mas vamos focar no **caso simples** para clareza:\n",
    "\n",
    "### Suponha:\n",
    "\n",
    "$$\n",
    "A \\in \\mathbb{R}^{(m + n) \\times r},\\quad \\text{com } m = n = r\n",
    "\\Rightarrow A \\in \\mathbb{R}^{2r \\times r}\n",
    "$$\n",
    "\n",
    "E seja:\n",
    "\n",
    "$$\n",
    "A = \\begin{bmatrix}\n",
    "A_1 \\\\\n",
    "A_2\n",
    "\\end{bmatrix},\\quad A_1, A_2 \\in \\mathbb{R}^{r \\times r}\n",
    "$$\n",
    "\n",
    "\n",
    "\n",
    "\n",
    "## Passo a passo da CSD via SVD\n",
    "\n",
    "\n",
    "### - **Passo 1: Obter os subespaços**\n",
    "\n",
    "Seja:\n",
    "\n",
    "* $A_1 \\in \\mathbb{R}^{r \\times r}$\n",
    "* $A_2 \\in \\mathbb{R}^{r \\times r}$\n",
    "\n",
    "Você quer decompor $A$ entendendo a **relação geométrica entre os subespaços linha** de $A_1$ e $A_2$.\n",
    "\n",
    "\n",
    "\n",
    "### - **Passo 2: Aplicar SVD em $A_1$**\n",
    "\n",
    "Faça:\n",
    "\n",
    "$$\n",
    "A_1 = U_1 \\Sigma_1 V^\\top\n",
    "$$\n",
    "\n",
    "* $U_1 \\in \\mathbb{R}^{r \\times r}$ (ortogonal)\n",
    "* $\\Sigma_1 = \\text{diag}(\\sigma_1^{(1)}, \\dots, \\sigma_r^{(1)})$\n",
    "* $V \\in \\mathbb{R}^{r \\times r}$ (ortogonal)\n",
    "\n",
    "\n",
    "### - **Passo 3: Aplicar SVD em $A_2$** usando **mesmo $V$**\n",
    "\n",
    "Agora, defina:\n",
    "\n",
    "$$\n",
    "\\tilde{A}_2 = A_2 V\n",
    "$$\n",
    "\n",
    "E aplique SVD em $\\tilde{A}_2$:\n",
    "\n",
    "$$\n",
    "\\tilde{A}_2 = U_2 \\Sigma_2\n",
    "$$\n",
    "\n",
    "Você agora tem:\n",
    "\n",
    "* $A_1 = U_1 \\Sigma_1 V^\\top$\n",
    "* $A_2 = U_2 \\Sigma_2 V^\\top$\n",
    "\n",
    "Essas decomposições **compartilham a mesma base $V$** (isso é importante e possível porque $A$ é unitária).\n",
    "\n",
    "\n",
    "\n",
    "### - **Passo 4: Obter os ângulos principais**\n",
    "\n",
    "Agora, queremos achar os ângulos $\\theta_i$ tais que:\n",
    "\n",
    "$$\n",
    "\\cos(\\theta_i) = \\sigma_i^{(1)}, \\quad \\sin(\\theta_i) = \\sigma_i^{(2)}\n",
    "$$\n",
    "\n",
    "Como $A$ é unitária:\n",
    "\n",
    "$$\n",
    "A_1^\\top A_1 + A_2^\\top A_2 = I\n",
    "\\Rightarrow \\Sigma_1^2 + \\Sigma_2^2 = I\n",
    "$$\n",
    "\n",
    "Portanto, podemos definir:\n",
    "\n",
    "$$\n",
    "\\theta_i = \\arccos(\\sigma_i^{(1)}) = \\arcsin(\\sigma_i^{(2)})\n",
    "$$\n",
    "\n",
    "\n",
    "\n",
    "\n",
    "\n",
    "### - **Passo 5: Construir os blocos da CSD**\n",
    "\n",
    "* $C = \\mathrm{diag}(\\cos(\\theta_1), \\dots, \\cos(\\theta_r))$\n",
    "* $S = \\mathrm{diag}(\\sin(\\theta_1), \\dots, \\sin(\\theta_r))$\n",
    "\n",
    "A matriz do meio da CSD será:\n",
    "\n",
    "$$\n",
    "\\begin{bmatrix}\n",
    "C & -S \\\\\n",
    "S & C\n",
    "\\end{bmatrix}\n",
    "$$\n",
    "\n",
    "E a CSD completa é:\n",
    "\n",
    "$$\n",
    "A = \n",
    "\\begin{bmatrix}\n",
    "U_1 & 0 \\\\\n",
    "0 & U_2\n",
    "\\end{bmatrix}\n",
    "\\begin{bmatrix}\n",
    "C & -S \\\\\n",
    "S & C\n",
    "\\end{bmatrix}\n",
    "V^\\top\n",
    "$$\n",
    "\n",
    "\n",
    "\n",
    "##  Recapitulando (Fluxo)\n",
    "\n",
    "1. **Particione** $A$ em $A_1$ e $A_2$\n",
    "2. **SVD** de $A_1 = U_1 \\Sigma_1 V^\\top$\n",
    "3. Defina $\\tilde{A}_2 = A_2 V$, depois faça $\\tilde{A}_2 = U_2 \\Sigma_2$\n",
    "4. Calcule $\\theta_i = \\arccos(\\sigma_i^{(1)})$\n",
    "5. Monte $C, S$, e a decomposição completa\n",
    "\n",
    "\n",
    "\n",
    "###  Observação importante\n",
    "\n",
    "Esse processo depende de $A$ ser **unitária/ortogonal** — ou seja, $A^\\top A = I$. Caso contrário, essa relação $\\Sigma_1^2 + \\Sigma_2^2 = I$ **não se sustentaria**, e os cossenos e senos não formariam uma matriz de rotação.\n",
    "\n"
   ]
  },
  {
   "cell_type": "code",
   "execution_count": 22,
   "id": "cd34ed29",
   "metadata": {},
   "outputs": [
    {
     "data": {
      "text/plain": [
       "build_csd_input_matrix (generic function with 1 method)"
      ]
     },
     "metadata": {},
     "output_type": "display_data"
    }
   ],
   "source": [
    "function build_csd_input_matrix(D1::Matrix{Float64}, D2::Matrix{Float64})\n",
    "    # D1: m × d (m amostras, d features) - dataset 1\n",
    "    # D2: n × d (n amostras, d features) - dataset 2\n",
    "\n",
    "    # Passo 1: QR dos transpostos (colunas de D1 e D2 como vetores base)\n",
    "    Q1, R1 = qr(D1')  \n",
    "    Q2, R2 = qr(D2') \n",
    "    \n",
    "    \n",
    "    if size(R1, 1) == size(R1, 2)\n",
    "        m= size(Q1, 1)\n",
    "        n = size(R1, 2)\n",
    "        R1_full = zeros(m, n)\n",
    "        R1_full[1:n, :] = R1\n",
    "    else\n",
    "        R1_full = R1\n",
    "    end\n",
    "    if size(R2, 1) == size(R2, 2)\n",
    "        m= size(Q2, 1)\n",
    "        n = size(R2, 2)\n",
    "        R2_full = zeros(m, n)\n",
    "        R2_full[1:n, :] = R2      \n",
    "    else\n",
    "        R2_full = R2  \n",
    "    end\n",
    "    \n",
    "\n",
    "    # Passo 2: Ortonormaliza a união dos subespaços de Q1 e Q2\n",
    "    Q_all, _ = qr([Q1 Q2])  # Q_all ∈ ℝ^{d × r}, com r ≤ m + n\n",
    "\n",
    "    # Passo 3: Projeta Q1 e Q2 no subespaço comum Q_all\n",
    "    A1 = Q_all' * Q1  # ∈ ℝ^{r × m}\n",
    "    A2 = Q_all' * Q2  # ∈ ℝ^{r × n}\n",
    "    \n",
    "    # Passo 4: Constrói a matriz A com blocos\n",
    "    top = hcat(A1, zeros(size(A1, 1), size(A2, 2)))    # [A1  0]\n",
    "    bottom = hcat(zeros(size(A2, 1), size(A1, 2)), A2)  # [0   A2]\n",
    "    A = vcat(top, bottom)  # ∈ ℝ^{2r × (m + n)}\n",
    "\n",
    "    return A, Q_all, R1_full, R2_full\n",
    "end"
   ]
  },
  {
   "cell_type": "code",
   "execution_count": 23,
   "id": "dae7a61e",
   "metadata": {},
   "outputs": [
    {
     "data": {
      "text/plain": [
       "rebuild_datasets_matrices (generic function with 1 method)"
      ]
     },
     "metadata": {},
     "output_type": "display_data"
    }
   ],
   "source": [
    "function rebuild_datasets_matrices(A, Q_all, R1, R2)\n",
    "    # A: matriz de entrada\n",
    "    # Q_all: base ortonormal comum\n",
    "    # R1: matriz triangular superior de D1\n",
    "    # R2: matriz triangular superior de D2\n",
    "\n",
    "    r = size(Q_all, 2)  # dimensão do subespaço comum\n",
    "\n",
    "    A1 = A[1:r, 1:size(R1, 1)] \n",
    "    D1_reconstructed = (Q_all * (A1' \\ R1))'\n",
    "   \n",
    "    A2 = A[r+1:end, end-size(R2,1)+1:end] \n",
    "    D2_reconstructed = (Q_all * (A2' \\ R2))'\n",
    "    \n",
    "    # D1_reconstructed: matriz reconstruída de D1\n",
    "    # D2_reconstructed: matriz reconstruída de D2\n",
    "\n",
    "    # Retorna as matrizes reconstruídas\n",
    "    return D1_reconstructed, D2_reconstructed\n",
    "    \n",
    "end"
   ]
  },
  {
   "cell_type": "code",
   "execution_count": 24,
   "id": "59dcf9f0",
   "metadata": {},
   "outputs": [
    {
     "data": {
      "text/plain": [
       "([1.0 -1.1102230246251565e-16 … 0.0 0.0; 0.0 1.0 … 0.0 0.0; … ; 0.0 0.0 … -0.19099734221678227 -0.7267037208312754; 0.0 0.0 … -0.6270100626694789 -0.07676959868876326], LinearAlgebra.QRCompactWYQ{Float64, Matrix{Float64}, Matrix{Float64}}([0.9999999999999999 -1.1102230246251565e-16 … 0.3471784511026196 -0.05939091769294497; -0.5886997453215905 1.0 … 0.06813636932443157 -0.03748939072276952; … ; 0.12235731176206453 0.26575198758088076 … -0.19099734221678227 -0.7267037208312754; 0.10095984524000944 0.129228559408898 … -0.6270100626694789 -0.07676959868876326], [1.330995000735619 1.2801181428214847 … -0.552965890998062 0.0; 5.0e-324 1.3423464281908373 … -1.0855196051990417 0.0; … ; 1.0e-323 1.264763357037e-311 … 1.8193668035037207 0.0; 3.0e-323 1.2647633570686e-311 … 1.14e-322 0.0]), [4.394276612692873 0.09493293943014769 … 0.08550792067234037 -1.3646694173393317; 0.0 2.8358965871693385 … 1.932039110018559 -1.0590843407290778; … ; 0.0 0.0 … 0.0 1.8498059026198155; 0.0 0.0 … 0.0 0.0], [-2.10795854167753 -0.2425016278033097 … -0.5614969921374615 -0.2654975098890584; 0.0 1.9590850124261119 … 0.5821165044017644 -1.473841223340888; … ; 0.0 0.0 … 0.35196054760063233 -1.1984265628646649; 0.0 0.0 … 2.5585323746913837 0.9877171503076116])"
      ]
     },
     "metadata": {},
     "output_type": "display_data"
    }
   ],
   "source": [
    "# Exemplo com dados aleatórios\n",
    "m = 5  # amostras de D1\n",
    "n = 7  # amostras de D2\n",
    "d = 6  # número de features\n",
    "\n",
    "D1 = randn(m, d)  # dataset 1\n",
    "D2 = randn(n, d)  # dataset 2\n",
    "\n",
    "A, Q_all, R1, R2 = build_csd_input_matrix(D1, D2)"
   ]
  },
  {
   "cell_type": "code",
   "execution_count": 25,
   "id": "7eaecc7e",
   "metadata": {},
   "outputs": [
    {
     "data": {
      "text/plain": [
       "12×12 Matrix{Float64}:\n",
       "  1.0          -1.11022e-16  …   0.0         0.0         0.0\n",
       "  0.0           1.0              0.0         0.0         0.0\n",
       "  5.55112e-17  -1.11022e-16      0.0         0.0         0.0\n",
       "  1.11022e-16  -6.15827e-17      0.0         0.0         0.0\n",
       " -1.38778e-16   1.11022e-16      0.0         0.0         0.0\n",
       "  1.94289e-16  -2.77556e-17  …   0.0         0.0         0.0\n",
       "  0.0           0.0             -0.728578    0.347178   -0.0593909\n",
       "  0.0           0.0             -0.25649     0.0681364  -0.0374894\n",
       "  0.0           0.0              0.520358    0.268788    0.480606\n",
       "  0.0           0.0             -0.279951   -0.610701    0.47968\n",
       "  0.0           0.0          …   0.232809   -0.190997   -0.726704\n",
       "  0.0           0.0             -0.0064693  -0.62701    -0.0767696"
      ]
     },
     "metadata": {},
     "output_type": "display_data"
    }
   ],
   "source": [
    "# Exibir a matriz A\n",
    "display(A)"
   ]
  },
  {
   "cell_type": "code",
   "execution_count": 26,
   "id": "2167c2bf",
   "metadata": {},
   "outputs": [
    {
     "name": "stdout",
     "output_type": "stream",
     "text": [
      "A matriz A é ortonormal\n"
     ]
    }
   ],
   "source": [
    "if A'*A ≈ I\n",
    "    println(\"A matriz A é ortonormal\")\n",
    "else\n",
    "    println(\"A matriz A não é ortonormal\")\n",
    "    \n",
    "end"
   ]
  },
  {
   "cell_type": "code",
   "execution_count": 27,
   "id": "b0d7d908",
   "metadata": {},
   "outputs": [
    {
     "name": "stdout",
     "output_type": "stream",
     "text": [
      "As matrizes reconstruídas são equivalentes às originais!\n"
     ]
    }
   ],
   "source": [
    "D1_reconstructed, D2_reconstructed = rebuild_datasets_matrices(A, Q_all, R1, R2)\n",
    "\n",
    "if D1_reconstructed ≈ D1 && D2_reconstructed ≈ D2\n",
    "    println(\"As matrizes reconstruídas são equivalentes às originais!\")\n",
    "else\n",
    "    println(\"As matrizes reconstruídas NÃO são equivalentes às originais.\")\n",
    "    \n",
    "end"
   ]
  },
  {
   "cell_type": "code",
   "execution_count": 49,
   "id": "40702150",
   "metadata": {},
   "outputs": [
    {
     "data": {
      "text/plain": [
       "load_images_as_dataset (generic function with 1 method)"
      ]
     },
     "metadata": {},
     "output_type": "display_data"
    }
   ],
   "source": [
    "function load_images_as_dataset(folder_path::String)\n",
    "    # Lista todos os arquivos JPEG na pasta\n",
    "    image_paths = Glob.glob(\"*.jpg\", folder_path)  # ou \"*.jpeg\"\n",
    "    num_images = length(image_paths)\n",
    "\n",
    "    if num_images == 0\n",
    "        error(\"Nenhuma imagem encontrada na pasta.\")\n",
    "    end\n",
    "    \n",
    "    # Carrega uma imagem para obter dimensões\n",
    "    img_sample = load(image_paths[1])\n",
    "    img_gray = Gray.(img_sample)  # Converte cada pixel RGB para Gray\n",
    "    println(size(img_gray))\n",
    "    h, w = size(img_gray)\n",
    "    \n",
    "    println(\"Dimensões da imagem: $h x $w\")\n",
    "\n",
    "    # Inicializa matriz dataset\n",
    "    dataset = zeros(Float64, num_images, h * w)\n",
    "\n",
    "    for (i, path) in enumerate(image_paths)\n",
    "        img = load(path)\n",
    "        img_gray = Gray.(img)  # Converte cada pixel RGB para Gray\n",
    "        dataset[i, :] = vec(img_gray)  # achata e insere como linha\n",
    "    end\n",
    "\n",
    "    return dataset\n",
    "end\n"
   ]
  },
  {
   "cell_type": "code",
   "execution_count": 50,
   "id": "491c4e39",
   "metadata": {},
   "outputs": [
    {
     "name": "stdout",
     "output_type": "stream",
     "text": [
      "(224, 224)\n",
      "Dimensões da imagem: 224 x 224\n"
     ]
    },
    {
     "data": {
      "text/plain": [
       "(181, 50176)"
      ]
     },
     "metadata": {},
     "output_type": "display_data"
    }
   ],
   "source": [
    "#\"D:\\Docs matheus\\UFRJ\\7-Setimo Periodo\\Alg. Lininear Aplicada\\Trabalho final\\CSD of subspaces\\ace of spades\"\n",
    "\n",
    "folder = raw\"D:\\Docs matheus\\UFRJ\\7-Setimo Periodo\\Alg. Lininear Aplicada\\Trabalho final\\CSD of subspaces\\ace of spades\"\n",
    "X = load_images_as_dataset(folder)\n",
    "size(X)  # ex: (100, 50176) se houver 100 imagens\n"
   ]
  },
  {
   "cell_type": "code",
   "execution_count": 60,
   "id": "8fe5d78a",
   "metadata": {},
   "outputs": [
    {
     "data": {
      "image/png": "[encoded data removed]",
      "text/html": [
       "<img src=\"data:image/png;base64,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\">"
      ],
      "text/plain": [
       "224×224 Array{RGB{N0f8},2} with eltype RGB{N0f8}:\n",
       " RGB{N0f8}(0.408,0.404,0.396)  …  RGB{N0f8}(0.416,0.408,0.412)\n",
       " RGB{N0f8}(0.427,0.424,0.416)     RGB{N0f8}(0.275,0.267,0.271)\n",
       " RGB{N0f8}(0.42,0.416,0.408)      RGB{N0f8}(0.471,0.471,0.471)\n",
       " RGB{N0f8}(0.42,0.416,0.408)      RGB{N0f8}(0.471,0.471,0.471)\n",
       " RGB{N0f8}(0.412,0.412,0.412)     RGB{N0f8}(0.475,0.475,0.475)\n",
       " RGB{N0f8}(0.424,0.424,0.424)  …  RGB{N0f8}(0.471,0.471,0.471)\n",
       " RGB{N0f8}(0.404,0.404,0.404)     RGB{N0f8}(0.471,0.471,0.471)\n",
       " RGB{N0f8}(0.42,0.42,0.42)        RGB{N0f8}(0.478,0.478,0.478)\n",
       " RGB{N0f8}(0.408,0.416,0.412)     RGB{N0f8}(0.475,0.475,0.475)\n",
       " RGB{N0f8}(0.412,0.42,0.416)      RGB{N0f8}(0.475,0.475,0.475)\n",
       " ⋮                             ⋱  \n",
       " RGB{N0f8}(0.416,0.416,0.408)  …  RGB{N0f8}(0.475,0.475,0.482)\n",
       " RGB{N0f8}(0.416,0.416,0.408)     RGB{N0f8}(0.475,0.475,0.475)\n",
       " RGB{N0f8}(0.416,0.416,0.408)     RGB{N0f8}(0.478,0.478,0.478)\n",
       " RGB{N0f8}(0.42,0.42,0.412)       RGB{N0f8}(0.467,0.475,0.471)\n",
       " RGB{N0f8}(0.412,0.412,0.404)     RGB{N0f8}(0.471,0.478,0.475)\n",
       " RGB{N0f8}(0.416,0.416,0.408)  …  RGB{N0f8}(0.475,0.482,0.478)\n",
       " RGB{N0f8}(0.416,0.416,0.408)     RGB{N0f8}(0.463,0.471,0.467)\n",
       " RGB{N0f8}(0.416,0.416,0.408)     RGB{N0f8}(0.467,0.475,0.471)\n",
       " RGB{N0f8}(0.408,0.408,0.4)       RGB{N0f8}(0.451,0.459,0.455)"
      ]
     },
     "metadata": {},
     "output_type": "display_data"
    }
   ],
   "source": [
    "img= load(folder * \"\\\\009.jpg\")\n",
    "display(img)"
   ]
  },
  {
   "cell_type": "code",
   "execution_count": 61,
   "id": "61b851ca",
   "metadata": {},
   "outputs": [
    {
     "data": {
      "image/png": "[encoded data removed]",
      "text/html": [
       "<img src=\"data:image/png;base64,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\">"
      ],
      "text/plain": [
       "224×224 reinterpret(reshape, Gray{Float64}, ::Matrix{Float64}) with eltype Gray{Float64}:\n",
       " Gray{Float64}(0.403922)  Gray{Float64}(0.509804)  …  Gray{Float64}(0.411765)\n",
       " Gray{Float64}(0.423529)  Gray{Float64}(0.792157)     Gray{Float64}(0.270588)\n",
       " Gray{Float64}(0.415686)  Gray{Float64}(0.803922)     Gray{Float64}(0.470588)\n",
       " Gray{Float64}(0.415686)  Gray{Float64}(0.788235)     Gray{Float64}(0.470588)\n",
       " Gray{Float64}(0.411765)  Gray{Float64}(0.8)          Gray{Float64}(0.47451)\n",
       " Gray{Float64}(0.423529)  Gray{Float64}(0.796078)  …  Gray{Float64}(0.470588)\n",
       " Gray{Float64}(0.403922)  Gray{Float64}(0.811765)     Gray{Float64}(0.470588)\n",
       " Gray{Float64}(0.419608)  Gray{Float64}(0.8)          Gray{Float64}(0.478431)\n",
       " Gray{Float64}(0.411765)  Gray{Float64}(0.807843)     Gray{Float64}(0.47451)\n",
       " Gray{Float64}(0.415686)  Gray{Float64}(0.8)          Gray{Float64}(0.47451)\n",
       " ⋮                                                 ⋱  \n",
       " Gray{Float64}(0.415686)  Gray{Float64}(0.8)       …  Gray{Float64}(0.47451)\n",
       " Gray{Float64}(0.415686)  Gray{Float64}(0.807843)     Gray{Float64}(0.47451)\n",
       " Gray{Float64}(0.415686)  Gray{Float64}(0.796078)     Gray{Float64}(0.478431)\n",
       " Gray{Float64}(0.419608)  Gray{Float64}(0.796078)     Gray{Float64}(0.470588)\n",
       " Gray{Float64}(0.411765)  Gray{Float64}(0.8)          Gray{Float64}(0.47451)\n",
       " Gray{Float64}(0.415686)  Gray{Float64}(0.8)       …  Gray{Float64}(0.478431)\n",
       " Gray{Float64}(0.415686)  Gray{Float64}(0.811765)     Gray{Float64}(0.466667)\n",
       " Gray{Float64}(0.415686)  Gray{Float64}(0.776471)     Gray{Float64}(0.470588)\n",
       " Gray{Float64}(0.407843)  Gray{Float64}(0.505882)     Gray{Float64}(0.454902)"
      ]
     },
     "metadata": {},
     "output_type": "display_data"
    }
   ],
   "source": [
    "vec_img=X[9, 1:end]  # Exibe os primeiros 10 pixels da primeira imagem\n",
    "mat_img = reshape(vec_img, 224, 224)  # reshape para matriz 2D\n",
    "img_gray = colorview(Gray, mat_img)   # converte para imagem cinza\n",
    "\n",
    "display(img_gray)  # mostra a imagem"
   ]
  }
 ],
 "metadata": {
  "kernelspec": {
   "display_name": "Julia 1.10.2",
   "language": "julia",
   "name": "julia-1.10"
  },
  "language_info": {
   "file_extension": ".jl",
   "mimetype": "application/julia",
   "name": "julia",
   "version": "1.10.2"
  }
 },
 "nbformat": 4,
 "nbformat_minor": 5
}
