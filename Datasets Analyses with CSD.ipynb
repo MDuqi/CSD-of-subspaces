{
 "cells": [
  {
   "cell_type": "code",
   "execution_count": 107,
   "id": "c9514414",
   "metadata": {},
   "outputs": [],
   "source": [
    "using LinearAlgebra\n",
    "using GenericLinearAlgebra\n"
   ]
  },
  {
   "cell_type": "markdown",
   "id": "d5723497",
   "metadata": {},
   "source": [
    "##  Objetivo\n",
    "\n",
    "Dado uma **matriz unitária ou ortogonal** $A \\in \\mathbb{R}^{(m+n) \\times (p+q)}$, queremos fazer a **CS decomposition**:\n",
    "\n",
    "$$\n",
    "A = \n",
    "\\begin{bmatrix}\n",
    "U_1 & 0 \\\\\n",
    "0 & U_2\n",
    "\\end{bmatrix}\n",
    "\\begin{bmatrix}\n",
    "C & -S & 0 \\\\\n",
    "S & C & 0 \\\\\n",
    "0 & 0 & I\n",
    "\\end{bmatrix}\n",
    "\\begin{bmatrix}\n",
    "V_1^\\top & 0 \\\\\n",
    "0 & V_2^\\top\n",
    "\\end{bmatrix}\n",
    "$$\n",
    "\n",
    "Esse é o caso mais geral (com bloco identidade no final se sobrarem dimensões), mas vamos focar no **caso simples** para clareza:\n",
    "\n",
    "### Suponha:\n",
    "\n",
    "$$\n",
    "A \\in \\mathbb{R}^{(m + n) \\times r},\\quad \\text{com } m = n = r\n",
    "\\Rightarrow A \\in \\mathbb{R}^{2r \\times r}\n",
    "$$\n",
    "\n",
    "E seja:\n",
    "\n",
    "$$\n",
    "A = \\begin{bmatrix}\n",
    "A_1 \\\\\n",
    "A_2\n",
    "\\end{bmatrix},\\quad A_1, A_2 \\in \\mathbb{R}^{r \\times r}\n",
    "$$\n",
    "\n",
    "\n",
    "\n",
    "\n",
    "## Passo a passo da CSD via SVD\n",
    "\n",
    "\n",
    "### - **Passo 1: Obter os subespaços**\n",
    "\n",
    "Seja:\n",
    "\n",
    "* $A_1 \\in \\mathbb{R}^{r \\times r}$\n",
    "* $A_2 \\in \\mathbb{R}^{r \\times r}$\n",
    "\n",
    "Você quer decompor $A$ entendendo a **relação geométrica entre os subespaços linha** de $A_1$ e $A_2$.\n",
    "\n",
    "\n",
    "\n",
    "### - **Passo 2: Aplicar SVD em $A_1$**\n",
    "\n",
    "Faça:\n",
    "\n",
    "$$\n",
    "A_1 = U_1 \\Sigma_1 V^\\top\n",
    "$$\n",
    "\n",
    "* $U_1 \\in \\mathbb{R}^{r \\times r}$ (ortogonal)\n",
    "* $\\Sigma_1 = \\text{diag}(\\sigma_1^{(1)}, \\dots, \\sigma_r^{(1)})$\n",
    "* $V \\in \\mathbb{R}^{r \\times r}$ (ortogonal)\n",
    "\n",
    "\n",
    "### - **Passo 3: Aplicar SVD em $A_2$** usando **mesmo $V$**\n",
    "\n",
    "Agora, defina:\n",
    "\n",
    "$$\n",
    "\\tilde{A}_2 = A_2 V\n",
    "$$\n",
    "\n",
    "E aplique SVD em $\\tilde{A}_2$:\n",
    "\n",
    "$$\n",
    "\\tilde{A}_2 = U_2 \\Sigma_2\n",
    "$$\n",
    "\n",
    "Você agora tem:\n",
    "\n",
    "* $A_1 = U_1 \\Sigma_1 V^\\top$\n",
    "* $A_2 = U_2 \\Sigma_2 V^\\top$\n",
    "\n",
    "Essas decomposições **compartilham a mesma base $V$** (isso é importante e possível porque $A$ é unitária).\n",
    "\n",
    "\n",
    "\n",
    "### - **Passo 4: Obter os ângulos principais**\n",
    "\n",
    "Agora, queremos achar os ângulos $\\theta_i$ tais que:\n",
    "\n",
    "$$\n",
    "\\cos(\\theta_i) = \\sigma_i^{(1)}, \\quad \\sin(\\theta_i) = \\sigma_i^{(2)}\n",
    "$$\n",
    "\n",
    "Como $A$ é unitária:\n",
    "\n",
    "$$\n",
    "A_1^\\top A_1 + A_2^\\top A_2 = I\n",
    "\\Rightarrow \\Sigma_1^2 + \\Sigma_2^2 = I\n",
    "$$\n",
    "\n",
    "Portanto, podemos definir:\n",
    "\n",
    "$$\n",
    "\\theta_i = \\arccos(\\sigma_i^{(1)}) = \\arcsin(\\sigma_i^{(2)})\n",
    "$$\n",
    "\n",
    "\n",
    "\n",
    "\n",
    "\n",
    "### - **Passo 5: Construir os blocos da CSD**\n",
    "\n",
    "* $C = \\mathrm{diag}(\\cos(\\theta_1), \\dots, \\cos(\\theta_r))$\n",
    "* $S = \\mathrm{diag}(\\sin(\\theta_1), \\dots, \\sin(\\theta_r))$\n",
    "\n",
    "A matriz do meio da CSD será:\n",
    "\n",
    "$$\n",
    "\\begin{bmatrix}\n",
    "C & -S \\\\\n",
    "S & C\n",
    "\\end{bmatrix}\n",
    "$$\n",
    "\n",
    "E a CSD completa é:\n",
    "\n",
    "$$\n",
    "A = \n",
    "\\begin{bmatrix}\n",
    "U_1 & 0 \\\\\n",
    "0 & U_2\n",
    "\\end{bmatrix}\n",
    "\\begin{bmatrix}\n",
    "C & -S \\\\\n",
    "S & C\n",
    "\\end{bmatrix}\n",
    "V^\\top\n",
    "$$\n",
    "\n",
    "\n",
    "\n",
    "##  Recapitulando (Fluxo)\n",
    "\n",
    "1. **Particione** $A$ em $A_1$ e $A_2$\n",
    "2. **SVD** de $A_1 = U_1 \\Sigma_1 V^\\top$\n",
    "3. Defina $\\tilde{A}_2 = A_2 V$, depois faça $\\tilde{A}_2 = U_2 \\Sigma_2$\n",
    "4. Calcule $\\theta_i = \\arccos(\\sigma_i^{(1)})$\n",
    "5. Monte $C, S$, e a decomposição completa\n",
    "\n",
    "\n",
    "\n",
    "###  Observação importante\n",
    "\n",
    "Esse processo depende de $A$ ser **unitária/ortogonal** — ou seja, $A^\\top A = I$. Caso contrário, essa relação $\\Sigma_1^2 + \\Sigma_2^2 = I$ **não se sustentaria**, e os cossenos e senos não formariam uma matriz de rotação.\n",
    "\n"
   ]
  },
  {
   "cell_type": "code",
   "execution_count": 108,
   "id": "cd34ed29",
   "metadata": {},
   "outputs": [
    {
     "data": {
      "text/plain": [
       "build_csd_input_matrix (generic function with 1 method)"
      ]
     },
     "metadata": {},
     "output_type": "display_data"
    }
   ],
   "source": [
    "function build_csd_input_matrix(D1::Matrix{Float64}, D2::Matrix{Float64})\n",
    "    # D1: m × d (m amostras, d features) - dataset 1\n",
    "    # D2: n × d (n amostras, d features) - dataset 2\n",
    "\n",
    "    # Passo 1: QR dos transpostos (colunas de D1 e D2 como vetores base)\n",
    "    Q1, R1 = qr(D1')  \n",
    "    Q2, R2 = qr(D2') \n",
    "    \n",
    "    \n",
    "    if size(R1, 1) == size(R1, 2)\n",
    "        m= size(Q1, 1)\n",
    "        n = size(R1, 2)\n",
    "        R1_full = zeros(m, n)\n",
    "        R1_full[1:n, :] = R1\n",
    "    else\n",
    "        R1_full = R1\n",
    "    end\n",
    "    if size(R2, 1) == size(R2, 2)\n",
    "        m= size(Q2, 1)\n",
    "        n = size(R2, 2)\n",
    "        R2_full = zeros(m, n)\n",
    "        R2_full[1:n, :] = R2      \n",
    "    else\n",
    "        R2_full = R2  \n",
    "    end\n",
    "    \n",
    "\n",
    "    # Passo 2: Ortonormaliza a união dos subespaços de Q1 e Q2\n",
    "    Q_all, _ = qr([Q1 Q2])  # Q_all ∈ ℝ^{d × r}, com r ≤ m + n\n",
    "\n",
    "    # Passo 3: Projeta Q1 e Q2 no subespaço comum Q_all\n",
    "    A1 = Q_all' * Q1  # ∈ ℝ^{r × m}\n",
    "    A2 = Q_all' * Q2  # ∈ ℝ^{r × n}\n",
    "    \n",
    "    # Passo 4: Constrói a matriz A com blocos\n",
    "    top = hcat(A1, zeros(size(A1, 1), size(A2, 2)))    # [A1  0]\n",
    "    bottom = hcat(zeros(size(A2, 1), size(A1, 2)), A2)  # [0   A2]\n",
    "    A = vcat(top, bottom)  # ∈ ℝ^{2r × (m + n)}\n",
    "\n",
    "    return A, Q_all, R1_full, R2_full\n",
    "end"
   ]
  },
  {
   "cell_type": "code",
   "execution_count": 109,
   "id": "59dcf9f0",
   "metadata": {},
   "outputs": [
    {
     "data": {
      "text/plain": [
       "([1.0 1.1102230246251565e-16 … 0.0 0.0; -5.551115123125783e-17 0.9999999999999998 … 0.0 0.0; … ; 0.0 0.0 … 0.7388686434857469 -0.22241675442881115; 0.0 0.0 … 0.44807017111710873 0.50550251379956], LinearAlgebra.QRCompactWYQ{Float64, Matrix{Float64}, Matrix{Float64}}([0.9999999999999999 1.1102230246251565e-16 … 0.4408423883505542 -0.26452958949013616; -0.12651859192983814 0.9999999999999999 … -0.19170625465820368 0.2765499507421787; … ; -0.390608965664288 -0.11642669828652653 … 0.7388686434857469 -0.22241675442881115; -0.3200151963255692 -0.26123881300671764 … 0.44807017111710873 0.50550251379956], [1.3989700954632844 -0.29377669446131993 … 0.36425808070105953 0.0; 6.3659873764e-314 1.2935777460502251 … 1.4255864467407124 0.0; … ; 2.33419537006e-313 3.60739284543e-313 … 1.1790064876837345 0.0; 1.9097962123e-313 5.0927898992e-313 … 0.0 0.0]), [-3.6166112707633324 1.415567587796891 … 0.6172484906896993 0.7852835843839266; 0.0 2.696327999681108 … -1.675154980222291 0.04098385814361112; … ; 0.0 0.0 … 0.0 0.26913267527150964; 0.0 0.0 … 0.0 0.0], [-1.5415238930064943 -0.3293100206506474 … -0.13580708779754463 -1.069274489318552; 0.0 -3.2570928188842125 … 1.6138442972366136 0.12346488665225663; … ; 0.0 0.0 … 0.3501533388077067 0.855105727756198; 0.0 0.0 … -1.9249375970086917 -0.005046607296508077])"
      ]
     },
     "metadata": {},
     "output_type": "display_data"
    }
   ],
   "source": [
    "# Exemplo com dados aleatórios\n",
    "m = 5  # amostras de D1\n",
    "n = 7  # amostras de D2\n",
    "d = 6  # número de features\n",
    "\n",
    "D1 = randn(m, d)  # dataset 1\n",
    "D2 = randn(n, d)  # dataset 2\n",
    "\n",
    "A, Q_all, R1, R2 = build_csd_input_matrix(D1, D2)"
   ]
  },
  {
   "cell_type": "code",
   "execution_count": 110,
   "id": "7eaecc7e",
   "metadata": {},
   "outputs": [
    {
     "data": {
      "text/plain": [
       "12×12 Matrix{Float64}:\n",
       "  1.0           1.11022e-16  …   0.0        0.0         0.0\n",
       " -5.55112e-17   1.0              0.0        0.0         0.0\n",
       "  0.0           5.55112e-17      0.0        0.0         0.0\n",
       " -5.55112e-17   1.11022e-16      0.0        0.0         0.0\n",
       "  1.11022e-16  -9.71445e-17      0.0        0.0         0.0\n",
       "  1.11022e-16  -2.77556e-17  …   0.0        0.0         0.0\n",
       "  0.0           0.0              0.167951   0.440842   -0.26453\n",
       "  0.0           0.0             -0.648237  -0.191706    0.27655\n",
       "  0.0           0.0             -0.277996  -0.0732448  -0.207081\n",
       "  0.0           0.0              0.513057   0.1298      0.711097\n",
       "  0.0           0.0          …  -0.116601   0.738869   -0.222417\n",
       "  0.0           0.0             -0.444384   0.44807     0.505503"
      ]
     },
     "metadata": {},
     "output_type": "display_data"
    }
   ],
   "source": [
    "# Exibir a matriz A\n",
    "display(A)"
   ]
  },
  {
   "cell_type": "code",
   "execution_count": 116,
   "id": "2167c2bf",
   "metadata": {},
   "outputs": [
    {
     "name": "stdout",
     "output_type": "stream",
     "text": [
      "A matriz A é ortonormal\n"
     ]
    }
   ],
   "source": [
    "if A'*A ≈ I\n",
    "    println(\"A matriz A é ortonormal\")\n",
    "else\n",
    "    println(\"A matriz A não é ortonormal\")\n",
    "    \n",
    "end"
   ]
  },
  {
   "cell_type": "code",
   "execution_count": 111,
   "id": "dae7a61e",
   "metadata": {},
   "outputs": [
    {
     "data": {
      "text/plain": [
       "rebuild_datasets_matrixes (generic function with 1 method)"
      ]
     },
     "metadata": {},
     "output_type": "display_data"
    }
   ],
   "source": [
    "function rebuild_datasets_matrixes(A, Q_all, R1, R2)\n",
    "    # A: matriz de entrada\n",
    "    # Q_all: base ortonormal comum\n",
    "    # R1: matriz triangular superior de D1\n",
    "    # R2: matriz triangular superior de D2\n",
    "\n",
    "    r = size(Q_all, 2)  # dimensão do subespaço comum\n",
    "\n",
    "    A1 = A[1:r, 1:size(R1, 1)] \n",
    "    D1_reconstructed = (Q_all * (A1' \\ R1))'\n",
    "   \n",
    "    A2 = A[r+1:end, end-size(R2,1)+1:end] \n",
    "    D2_reconstructed = (Q_all * (A2' \\ R2))'\n",
    "    \n",
    "    # D1_reconstructed: matriz reconstruída de D1\n",
    "    # D2_reconstructed: matriz reconstruída de D2\n",
    "\n",
    "    # Retorna as matrizes reconstruídas\n",
    "    return D1_reconstructed, D2_reconstructed\n",
    "    \n",
    "end"
   ]
  },
  {
   "cell_type": "code",
   "execution_count": null,
   "id": "b0d7d908",
   "metadata": {},
   "outputs": [
    {
     "name": "stdout",
     "output_type": "stream",
     "text": [
      "As matrizes reconstruídas são equivalentes às originais!\n"
     ]
    }
   ],
   "source": [
    "D1_reconstructed, D2_reconstructed = rebuild_datasets_matrices(A, Q_all, R1, R2)\n",
    "\n",
    "if D1_reconstructed ≈ D1 && D2_reconstructed ≈ D2\n",
    "    println(\"As matrizes reconstruídas são equivalentes às originais!\")\n",
    "else\n",
    "    println(\"As matrizes reconstruídas NÃO são equivalentes às originais.\")\n",
    "    \n",
    "end"
   ]
  }
 ],
 "metadata": {
  "kernelspec": {
   "display_name": "Julia 1.10.2",
   "language": "julia",
   "name": "julia-1.10"
  },
  "language_info": {
   "file_extension": ".jl",
   "mimetype": "application/julia",
   "name": "julia",
   "version": "1.10.2"
  }
 },
 "nbformat": 4,
 "nbformat_minor": 5
}
