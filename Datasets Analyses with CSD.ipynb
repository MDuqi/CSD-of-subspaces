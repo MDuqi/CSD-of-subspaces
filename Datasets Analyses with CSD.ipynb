{
 "cells": [
  {
   "cell_type": "code",
   "execution_count": 3,
   "id": "c9514414",
   "metadata": {},
   "outputs": [],
   "source": [
    "using LinearAlgebra\n",
    "using GenericLinearAlgebra\n"
   ]
  },
  {
   "cell_type": "markdown",
   "id": "d5723497",
   "metadata": {},
   "source": [
    "##  Objetivo\n",
    "\n",
    "Dado uma **matriz unitária ou ortogonal** $A \\in \\mathbb{R}^{(m+n) \\times (p+q)}$, queremos fazer a **CS decomposition**:\n",
    "\n",
    "$$\n",
    "A = \n",
    "\\begin{bmatrix}\n",
    "U_1 & 0 \\\\\n",
    "0 & U_2\n",
    "\\end{bmatrix}\n",
    "\\begin{bmatrix}\n",
    "C & -S & 0 \\\\\n",
    "S & C & 0 \\\\\n",
    "0 & 0 & I\n",
    "\\end{bmatrix}\n",
    "\\begin{bmatrix}\n",
    "V_1^\\top & 0 \\\\\n",
    "0 & V_2^\\top\n",
    "\\end{bmatrix}\n",
    "$$\n",
    "\n",
    "Esse é o caso mais geral (com bloco identidade no final se sobrarem dimensões), mas vamos focar no **caso simples** para clareza:\n",
    "\n",
    "### Suponha:\n",
    "\n",
    "$$\n",
    "A \\in \\mathbb{R}^{(m + n) \\times r},\\quad \\text{com } m = n = r\n",
    "\\Rightarrow A \\in \\mathbb{R}^{2r \\times r}\n",
    "$$\n",
    "\n",
    "E seja:\n",
    "\n",
    "$$\n",
    "A = \\begin{bmatrix}\n",
    "A_1 \\\\\n",
    "A_2\n",
    "\\end{bmatrix},\\quad A_1, A_2 \\in \\mathbb{R}^{r \\times r}\n",
    "$$\n",
    "\n",
    "\n",
    "\n",
    "\n",
    "## Passo a passo da CSD via SVD\n",
    "\n",
    "\n",
    "### - **Passo 1: Obter os subespaços**\n",
    "\n",
    "Seja:\n",
    "\n",
    "* $A_1 \\in \\mathbb{R}^{r \\times r}$\n",
    "* $A_2 \\in \\mathbb{R}^{r \\times r}$\n",
    "\n",
    "Você quer decompor $A$ entendendo a **relação geométrica entre os subespaços linha** de $A_1$ e $A_2$.\n",
    "\n",
    "\n",
    "\n",
    "### - **Passo 2: Aplicar SVD em $A_1$**\n",
    "\n",
    "Faça:\n",
    "\n",
    "$$\n",
    "A_1 = U_1 \\Sigma_1 V^\\top\n",
    "$$\n",
    "\n",
    "* $U_1 \\in \\mathbb{R}^{r \\times r}$ (ortogonal)\n",
    "* $\\Sigma_1 = \\text{diag}(\\sigma_1^{(1)}, \\dots, \\sigma_r^{(1)})$\n",
    "* $V \\in \\mathbb{R}^{r \\times r}$ (ortogonal)\n",
    "\n",
    "\n",
    "### - **Passo 3: Aplicar SVD em $A_2$** usando **mesmo $V$**\n",
    "\n",
    "Agora, defina:\n",
    "\n",
    "$$\n",
    "\\tilde{A}_2 = A_2 V\n",
    "$$\n",
    "\n",
    "E aplique SVD em $\\tilde{A}_2$:\n",
    "\n",
    "$$\n",
    "\\tilde{A}_2 = U_2 \\Sigma_2\n",
    "$$\n",
    "\n",
    "Você agora tem:\n",
    "\n",
    "* $A_1 = U_1 \\Sigma_1 V^\\top$\n",
    "* $A_2 = U_2 \\Sigma_2 V^\\top$\n",
    "\n",
    "Essas decomposições **compartilham a mesma base $V$** (isso é importante e possível porque $A$ é unitária).\n",
    "\n",
    "\n",
    "\n",
    "### - **Passo 4: Obter os ângulos principais**\n",
    "\n",
    "Agora, queremos achar os ângulos $\\theta_i$ tais que:\n",
    "\n",
    "$$\n",
    "\\cos(\\theta_i) = \\sigma_i^{(1)}, \\quad \\sin(\\theta_i) = \\sigma_i^{(2)}\n",
    "$$\n",
    "\n",
    "Como $A$ é unitária:\n",
    "\n",
    "$$\n",
    "A_1^\\top A_1 + A_2^\\top A_2 = I\n",
    "\\Rightarrow \\Sigma_1^2 + \\Sigma_2^2 = I\n",
    "$$\n",
    "\n",
    "Portanto, podemos definir:\n",
    "\n",
    "$$\n",
    "\\theta_i = \\arccos(\\sigma_i^{(1)}) = \\arcsin(\\sigma_i^{(2)})\n",
    "$$\n",
    "\n",
    "\n",
    "\n",
    "\n",
    "\n",
    "### - **Passo 5: Construir os blocos da CSD**\n",
    "\n",
    "* $C = \\mathrm{diag}(\\cos(\\theta_1), \\dots, \\cos(\\theta_r))$\n",
    "* $S = \\mathrm{diag}(\\sin(\\theta_1), \\dots, \\sin(\\theta_r))$\n",
    "\n",
    "A matriz do meio da CSD será:\n",
    "\n",
    "$$\n",
    "\\begin{bmatrix}\n",
    "C & -S \\\\\n",
    "S & C\n",
    "\\end{bmatrix}\n",
    "$$\n",
    "\n",
    "E a CSD completa é:\n",
    "\n",
    "$$\n",
    "A = \n",
    "\\begin{bmatrix}\n",
    "U_1 & 0 \\\\\n",
    "0 & U_2\n",
    "\\end{bmatrix}\n",
    "\\begin{bmatrix}\n",
    "C & -S \\\\\n",
    "S & C\n",
    "\\end{bmatrix}\n",
    "V^\\top\n",
    "$$\n",
    "\n",
    "\n",
    "\n",
    "##  Recapitulando (Fluxo)\n",
    "\n",
    "1. **Particione** $A$ em $A_1$ e $A_2$\n",
    "2. **SVD** de $A_1 = U_1 \\Sigma_1 V^\\top$\n",
    "3. Defina $\\tilde{A}_2 = A_2 V$, depois faça $\\tilde{A}_2 = U_2 \\Sigma_2$\n",
    "4. Calcule $\\theta_i = \\arccos(\\sigma_i^{(1)})$\n",
    "5. Monte $C, S$, e a decomposição completa\n",
    "\n",
    "\n",
    "\n",
    "###  Observação importante\n",
    "\n",
    "Esse processo depende de $A$ ser **unitária/ortogonal** — ou seja, $A^\\top A = I$. Caso contrário, essa relação $\\Sigma_1^2 + \\Sigma_2^2 = I$ **não se sustentaria**, e os cossenos e senos não formariam uma matriz de rotação.\n",
    "\n"
   ]
  },
  {
   "cell_type": "code",
   "execution_count": 192,
   "id": "cd34ed29",
   "metadata": {},
   "outputs": [
    {
     "data": {
      "text/plain": [
       "build_csd_input_matrix (generic function with 1 method)"
      ]
     },
     "metadata": {},
     "output_type": "display_data"
    }
   ],
   "source": [
    "function build_csd_input_matrix(D1::Matrix{Float64}, D2::Matrix{Float64})\n",
    "    # D1: m × d (m amostras, d features) - dataset 1\n",
    "    # D2: n × d (n amostras, d features) - dataset 2\n",
    "\n",
    "    # Passo 1: QR dos transpostos (colunas de D1 e D2 como vetores base)\n",
    "    Q1, R1 = qr(D1')  \n",
    "    Q2, R2 = qr(D2') \n",
    "\n",
    "    m= size(Q1, 1)\n",
    "    n = size(R1, 1)\n",
    "    R1_full = zeros(m, n)\n",
    "    R1_full[1:n, :] = R1\n",
    "\n",
    "    m= size(Q2, 1)\n",
    "    n = size(R2, 1)\n",
    "    R2_full = zeros(m, n)\n",
    "    R2_full[1:n, :] = R2\n",
    "\n",
    "    # Passo 2: Ortonormaliza a união dos subespaços de Q1 e Q2\n",
    "    Q_all, _ = qr([Q1 Q2])  # Q_all ∈ ℝ^{d × r}, com r ≤ m + n\n",
    "\n",
    "    # Passo 3: Projeta Q1 e Q2 no subespaço comum Q_all\n",
    "    A1 = Q_all' * Q1  # ∈ ℝ^{r × m}\n",
    "    A2 = Q_all' * Q2  # ∈ ℝ^{r × n}\n",
    "    \n",
    "    # Passo 4: Constrói a matriz A com blocos\n",
    "    top = hcat(A1, zeros(size(A1, 1), size(A2, 2)))    # [A1  0]\n",
    "    bottom = hcat(zeros(size(A2, 1), size(A1, 2)), A2)  # [0   A2]\n",
    "    A = vcat(top, bottom)  # ∈ ℝ^{2r × (m + n)}\n",
    "\n",
    "    return A, Q_all, R1_full, R2_full\n",
    "end"
   ]
  },
  {
   "cell_type": "code",
   "execution_count": 213,
   "id": "59dcf9f0",
   "metadata": {},
   "outputs": [
    {
     "data": {
      "text/plain": [
       "([1.0 0.0 … 0.0 0.0; 1.3877787807814457e-16 1.0000000000000004 … 0.0 0.0; … ; 0.0 0.0 … -0.3247476540325611 0.5010484629416998; 0.0 0.0 … -0.2840659828266191 -0.1990471101563696], LinearAlgebra.QRCompactWYQ{Float64, Matrix{Float64}, Matrix{Float64}}([0.9999999999999998 0.0 … -0.35114782003217804 -0.23836554458478731; -0.021460360930437978 1.0000000000000002 … -0.5784011605749361 0.2511132765007529; … ; -0.08178253529012289 0.20271705798151218 … -0.3247476540325611 0.5010484629416998; -0.338180839114502 -0.1525196757566285 … -0.2840659828266191 -0.1990471101563696], [1.5112106498199231 -0.5725600652508731 … 0.3156226098607736 0.0; 0.0 1.4510135652547944 … -0.29851632112516374 0.0; … ; 0.0 0.0 … 1.4424387311495952 0.0; 0.0 0.0 … 0.0 0.0]), [-2.3226321744898404 -0.09462615009086806 … 0.6688532523827969 -0.1916376576048246; 0.0 2.049094425183275 … 0.09975038600374153 0.18625272833176093; … ; 0.0 0.0 … 0.0 0.6804424022938356; 0.0 0.0 … 0.0 0.0], [-2.0351156141143303 0.5243766085794078 0.6575133917581222 -0.6108325616383428; 0.0 1.0277050175435931 -1.3399621148716876 -0.593236436426533; … ; 0.0 0.0 0.0 0.0; 0.0 0.0 0.0 0.0])"
      ]
     },
     "metadata": {},
     "output_type": "display_data"
    }
   ],
   "source": [
    "# Exemplo com dados aleatórios\n",
    "m = 5  # amostras de D1\n",
    "n = 4  # amostras de D2\n",
    "d = 6  # número de features\n",
    "\n",
    "D1 = randn(m, d)  # dataset 1\n",
    "D2 = randn(n, d)  # dataset 2\n",
    "\n",
    "A, Q_all, R1, R2 = build_csd_input_matrix(D1, D2)"
   ]
  },
  {
   "cell_type": "code",
   "execution_count": 214,
   "id": "7eaecc7e",
   "metadata": {},
   "outputs": [
    {
     "data": {
      "text/plain": [
       "6×5 Matrix{Float64}:\n",
       " -2.32263  -0.0946262   0.284915   0.668853   -0.191638\n",
       "  0.0       2.04909    -0.861688   0.0997504   0.186253\n",
       "  0.0       0.0        -0.600405  -1.23307    -0.936787\n",
       "  0.0       0.0         0.0       -1.38027    -0.425887\n",
       "  0.0       0.0         0.0        0.0         0.680442\n",
       "  0.0       0.0         0.0        0.0         0.0"
      ]
     },
     "metadata": {},
     "output_type": "display_data"
    },
    {
     "data": {
      "text/plain": [
       "6×4 Matrix{Float64}:\n",
       " -2.03512  0.524377   0.657513  -0.610833\n",
       "  0.0      1.02771   -1.33996   -0.593236\n",
       "  0.0      0.0        2.39095    0.157337\n",
       "  0.0      0.0        0.0       -1.81606\n",
       "  0.0      0.0        0.0        0.0\n",
       "  0.0      0.0        0.0        0.0"
      ]
     },
     "metadata": {},
     "output_type": "display_data"
    },
    {
     "data": {
      "text/plain": [
       "6×6 LinearAlgebra.QRCompactWYQ{Float64, Matrix{Float64}, Matrix{Float64}}"
      ]
     },
     "metadata": {},
     "output_type": "display_data"
    },
    {
     "data": {
      "text/plain": [
       "12×12 Matrix{Float64}:\n",
       " 1.0           0.0          -1.80411e-16  …   0.0         0.0        0.0\n",
       " 1.38778e-16   1.0           6.66134e-16      0.0         0.0        0.0\n",
       " 1.11022e-16  -1.11022e-16   1.0              0.0         0.0        0.0\n",
       " 5.55112e-17  -5.55112e-17   0.0              0.0         0.0        0.0\n",
       " 2.77556e-17  -1.11022e-16   1.66533e-16      0.0         0.0        0.0\n",
       " 0.0          -8.32667e-17   1.11022e-16  …   0.0         0.0        0.0\n",
       " 0.0           0.0           0.0             -0.307233   -0.351148  -0.238366\n",
       " 0.0           0.0           0.0             -0.0756162  -0.578401   0.251113\n",
       " 0.0           0.0           0.0              0.505592    0.488782  -0.179462\n",
       " 0.0           0.0           0.0              0.371695   -0.342177  -0.74649\n",
       " 0.0           0.0           0.0          …   0.692064   -0.324748   0.501048\n",
       " 0.0           0.0           0.0              0.164796   -0.284066  -0.199047"
      ]
     },
     "metadata": {},
     "output_type": "display_data"
    }
   ],
   "source": [
    "display(R1)\n",
    "display(R2)\n",
    "display(Q_all)\n",
    "display(A)"
   ]
  },
  {
   "cell_type": "code",
   "execution_count": 215,
   "id": "dae7a61e",
   "metadata": {},
   "outputs": [
    {
     "data": {
      "text/plain": [
       "rebuild_datasets_matrixes (generic function with 1 method)"
      ]
     },
     "metadata": {},
     "output_type": "display_data"
    }
   ],
   "source": [
    "function rebuild_datasets_matrixes(A, Q_all, R1, R2)\n",
    "    # A: matriz de entrada\n",
    "    # Q_all: base ortonormal comum\n",
    "    # R1: matriz triangular superior de D1\n",
    "    # R2: matriz triangular superior de D2\n",
    "\n",
    "    r = size(Q_all, 2)  # dimensão do subespaço comum\n",
    "\n",
    "    A1 = A[1:r, 1:size(R1, 1)] \n",
    "    D1_reconstructed = (Q_all * (A1' \\ R1))'\n",
    "   \n",
    "    A2 = A[r+1:end, end-size(R2,1)+1:end] \n",
    "    D2_reconstructed = (Q_all * (A2' \\ R2))'\n",
    "    \n",
    "    # D1_reconstructed: matriz reconstruída de D1\n",
    "    # D2_reconstructed: matriz reconstruída de D2\n",
    "\n",
    "    # Retorna as matrizes reconstruídas\n",
    "    return D1_reconstructed, D2_reconstructed\n",
    "    \n",
    "end"
   ]
  },
  {
   "cell_type": "code",
   "execution_count": 220,
   "id": "b0d7d908",
   "metadata": {},
   "outputs": [
    {
     "data": {
      "text/plain": [
       "5×6 Matrix{Float64}:\n",
       "  1.18735   -0.0753256  -1.20869    -1.01331    -0.287056  -1.18701\n",
       "  1.28806   -0.953842    0.583808    0.886238   -0.715811  -0.014116\n",
       " -0.593211   0.734436   -0.0282487   0.0450226   0.495124  -0.211899\n",
       "  0.540176   0.839112    0.133372    1.1492      1.18056    0.393497\n",
       "  0.319066   0.341549   -0.520077    0.924657    0.289179  -0.407201"
      ]
     },
     "metadata": {},
     "output_type": "display_data"
    },
    {
     "data": {
      "text/plain": [
       "4×6 Matrix{Float64}:\n",
       "  0.0394613  -1.87577     0.737148   0.0808812    0.191689   0.186914\n",
       " -0.750263    0.449168   -0.295731   0.227416     0.468467  -0.455922\n",
       "  1.89319     0.394466   -0.17961   -0.854753    -0.852075  -1.64797\n",
       "  1.08804     0.0380192   1.45625   -0.00223514   0.837456   0.201559"
      ]
     },
     "metadata": {},
     "output_type": "display_data"
    },
    {
     "data": {
      "text/plain": [
       "5×6 adjoint(::Matrix{Float64}) with eltype Float64:\n",
       "  1.18735   -0.0753256  -1.20869    -1.01331    -0.287056  -1.18701\n",
       "  1.28806   -0.953842    0.583808    0.886238   -0.715811  -0.014116\n",
       " -0.593211   0.734436   -0.0282487   0.0450226   0.495124  -0.211899\n",
       "  0.540176   0.839112    0.133372    1.1492      1.18056    0.393497\n",
       "  0.319066   0.341549   -0.520077    0.924657    0.289179  -0.407201"
      ]
     },
     "metadata": {},
     "output_type": "display_data"
    },
    {
     "data": {
      "text/plain": [
       "4×6 adjoint(::Matrix{Float64}) with eltype Float64:\n",
       "  0.0394613  -1.87577     0.737148   0.0808812    0.191689   0.186914\n",
       " -0.750263    0.449168   -0.295731   0.227416     0.468467  -0.455922\n",
       "  1.89319     0.394466   -0.17961   -0.854753    -0.852075  -1.64797\n",
       "  1.08804     0.0380192   1.45625   -0.00223514   0.837456   0.201559"
      ]
     },
     "metadata": {},
     "output_type": "display_data"
    },
    {
     "name": "stdout",
     "output_type": "stream",
     "text": [
      "As matrizes reconstruídas são equivalentes às originais!\n"
     ]
    }
   ],
   "source": [
    "D1_reconstructed, D2_reconstructed = rebuild_datasets_matrixes(A, Q_all, R1, R2)\n",
    "display(D1)\n",
    "display(D2)\n",
    "display(D1_reconstructed)\n",
    "display(D2_reconstructed)\n",
    "if D1_reconstructed ≈ D1 && D2_reconstructed ≈ D2\n",
    "    println(\"As matrizes reconstruídas são equivalentes às originais!\")\n",
    "else\n",
    "    println(\"As matrizes reconstruídas NÃO são equivalentes às originais.\")\n",
    "    \n",
    "end"
   ]
  }
 ],
 "metadata": {
  "kernelspec": {
   "display_name": "Julia 1.10.2",
   "language": "julia",
   "name": "julia-1.10"
  },
  "language_info": {
   "file_extension": ".jl",
   "mimetype": "application/julia",
   "name": "julia",
   "version": "1.10.2"
  }
 },
 "nbformat": 4,
 "nbformat_minor": 5
}
