{
 "cells": [
  {
   "cell_type": "code",
   "execution_count": 21,
   "id": "c9514414",
   "metadata": {},
   "outputs": [
    {
     "name": "stderr",
     "output_type": "stream",
     "text": [
      "┌ Warning: Pkg.installed() is deprecated\n",
      "└ @ Pkg C:\\Users\\mathe\\.julia\\juliaup\\julia-1.10.2+0.x64.w64.mingw32\\share\\julia\\stdlib\\v1.10\\Pkg\\src\\Pkg.jl:744\n",
      "┌ Warning: Pkg.installed() is deprecated\n",
      "└ @ Pkg C:\\Users\\mathe\\.julia\\juliaup\\julia-1.10.2+0.x64.w64.mingw32\\share\\julia\\stdlib\\v1.10\\Pkg\\src\\Pkg.jl:744\n",
      "┌ Warning: Pkg.installed() is deprecated\n",
      "└ @ Pkg C:\\Users\\mathe\\.julia\\juliaup\\julia-1.10.2+0.x64.w64.mingw32\\share\\julia\\stdlib\\v1.10\\Pkg\\src\\Pkg.jl:744\n",
      "┌ Warning: Pkg.installed() is deprecated\n",
      "└ @ Pkg C:\\Users\\mathe\\.julia\\juliaup\\julia-1.10.2+0.x64.w64.mingw32\\share\\julia\\stdlib\\v1.10\\Pkg\\src\\Pkg.jl:744\n"
     ]
    }
   ],
   "source": [
    "using Pkg\n",
    "if !haskey(Pkg.installed(), \"Images\") || !haskey(Pkg.installed(), \"ImageMagick\") || !haskey(Pkg.installed(), \"FileIO\") || !haskey(Pkg.installed(), \"Glob\")\n",
    "    println(\"Installing required packages...\")\n",
    "    Pkg.add.([\"Images\", \"ImageMagick\", \"FileIO\", \"Glob\"])\n",
    "end\n",
    "\n",
    "\n",
    "\n",
    "using LinearAlgebra\n",
    "using GenericLinearAlgebra\n",
    "using Images\n",
    "using FileIO\n",
    "using Glob\n",
    "using ImageMagick  # pode ser necessário para JPEG\n"
   ]
  },
  {
   "cell_type": "markdown",
   "id": "d5723497",
   "metadata": {},
   "source": [
    "##  Objetivo\n",
    "\n",
    "Dado uma **matriz unitária ou ortogonal** $A \\in \\mathbb{R}^{(m+n) \\times (p+q)}$, queremos fazer a **CS decomposition**:\n",
    "\n",
    "$$\n",
    "A = \n",
    "\\begin{bmatrix}\n",
    "U_1 & 0 \\\\\n",
    "0 & U_2\n",
    "\\end{bmatrix}\n",
    "\\begin{bmatrix}\n",
    "C & -S & 0 \\\\\n",
    "S & C & 0 \\\\\n",
    "0 & 0 & I\n",
    "\\end{bmatrix}\n",
    "\\begin{bmatrix}\n",
    "V_1^\\top & 0 \\\\\n",
    "0 & V_2^\\top\n",
    "\\end{bmatrix}\n",
    "$$\n",
    "\n",
    "Esse é o caso mais geral (com bloco identidade no final se sobrarem dimensões), mas vamos focar no **caso simples** para clareza:\n",
    "\n",
    "### Suponha:\n",
    "\n",
    "$$\n",
    "A \\in \\mathbb{R}^{(m + n) \\times r},\\quad \\text{com } m = n = r\n",
    "\\Rightarrow A \\in \\mathbb{R}^{2r \\times r}\n",
    "$$\n",
    "\n",
    "E seja:\n",
    "\n",
    "$$\n",
    "A = \\begin{bmatrix}\n",
    "A_1 \\\\\n",
    "A_2\n",
    "\\end{bmatrix},\\quad A_1, A_2 \\in \\mathbb{R}^{r \\times r}\n",
    "$$\n",
    "\n",
    "\n",
    "\n",
    "\n",
    "## Passo a passo da CSD via SVD\n",
    "\n",
    "\n",
    "### - **Passo 1: Obter os subespaços**\n",
    "\n",
    "Seja:\n",
    "\n",
    "* $A_1 \\in \\mathbb{R}^{r \\times r}$\n",
    "* $A_2 \\in \\mathbb{R}^{r \\times r}$\n",
    "\n",
    "Você quer decompor $A$ entendendo a **relação geométrica entre os subespaços linha** de $A_1$ e $A_2$.\n",
    "\n",
    "\n",
    "\n",
    "### - **Passo 2: Aplicar SVD em $A_1$**\n",
    "\n",
    "Faça:\n",
    "\n",
    "$$\n",
    "A_1 = U_1 \\Sigma_1 V^\\top\n",
    "$$\n",
    "\n",
    "* $U_1 \\in \\mathbb{R}^{r \\times r}$ (ortogonal)\n",
    "* $\\Sigma_1 = \\text{diag}(\\sigma_1^{(1)}, \\dots, \\sigma_r^{(1)})$\n",
    "* $V \\in \\mathbb{R}^{r \\times r}$ (ortogonal)\n",
    "\n",
    "\n",
    "### - **Passo 3: Aplicar SVD em $A_2$** usando **mesmo $V$**\n",
    "\n",
    "Agora, defina:\n",
    "\n",
    "$$\n",
    "\\tilde{A}_2 = A_2 V\n",
    "$$\n",
    "\n",
    "E aplique SVD em $\\tilde{A}_2$:\n",
    "\n",
    "$$\n",
    "\\tilde{A}_2 = U_2 \\Sigma_2\n",
    "$$\n",
    "\n",
    "Você agora tem:\n",
    "\n",
    "* $A_1 = U_1 \\Sigma_1 V^\\top$\n",
    "* $A_2 = U_2 \\Sigma_2 V^\\top$\n",
    "\n",
    "Essas decomposições **compartilham a mesma base $V$** (isso é importante e possível porque $A$ é unitária).\n",
    "\n",
    "\n",
    "\n",
    "### - **Passo 4: Obter os ângulos principais**\n",
    "\n",
    "Agora, queremos achar os ângulos $\\theta_i$ tais que:\n",
    "\n",
    "$$\n",
    "\\cos(\\theta_i) = \\sigma_i^{(1)}, \\quad \\sin(\\theta_i) = \\sigma_i^{(2)}\n",
    "$$\n",
    "\n",
    "Como $A$ é unitária:\n",
    "\n",
    "$$\n",
    "A_1^\\top A_1 + A_2^\\top A_2 = I\n",
    "\\Rightarrow \\Sigma_1^2 + \\Sigma_2^2 = I\n",
    "$$\n",
    "\n",
    "Portanto, podemos definir:\n",
    "\n",
    "$$\n",
    "\\theta_i = \\arccos(\\sigma_i^{(1)}) = \\arcsin(\\sigma_i^{(2)})\n",
    "$$\n",
    "\n",
    "\n",
    "\n",
    "\n",
    "\n",
    "### - **Passo 5: Construir os blocos da CSD**\n",
    "\n",
    "* $C = \\mathrm{diag}(\\cos(\\theta_1), \\dots, \\cos(\\theta_r))$\n",
    "* $S = \\mathrm{diag}(\\sin(\\theta_1), \\dots, \\sin(\\theta_r))$\n",
    "\n",
    "A matriz do meio da CSD será:\n",
    "\n",
    "$$\n",
    "\\begin{bmatrix}\n",
    "C & -S \\\\\n",
    "S & C\n",
    "\\end{bmatrix}\n",
    "$$\n",
    "\n",
    "E a CSD completa é:\n",
    "\n",
    "$$\n",
    "A = \n",
    "\\begin{bmatrix}\n",
    "U_1 & 0 \\\\\n",
    "0 & U_2\n",
    "\\end{bmatrix}\n",
    "\\begin{bmatrix}\n",
    "C & -S \\\\\n",
    "S & C\n",
    "\\end{bmatrix}\n",
    "V^\\top\n",
    "$$\n",
    "\n",
    "\n",
    "\n",
    "##  Recapitulando (Fluxo)\n",
    "\n",
    "1. **Particione** $A$ em $A_1$ e $A_2$\n",
    "2. **SVD** de $A_1 = U_1 \\Sigma_1 V^\\top$\n",
    "3. Defina $\\tilde{A}_2 = A_2 V$, depois faça $\\tilde{A}_2 = U_2 \\Sigma_2$\n",
    "4. Calcule $\\theta_i = \\arccos(\\sigma_i^{(1)})$\n",
    "5. Monte $C, S$, e a decomposição completa\n",
    "\n",
    "\n",
    "\n",
    "###  Observação importante\n",
    "\n",
    "Esse processo depende de $A$ ser **unitária/ortogonal** — ou seja, $A^\\top A = I$. Caso contrário, essa relação $\\Sigma_1^2 + \\Sigma_2^2 = I$ **não se sustentaria**, e os cossenos e senos não formariam uma matriz de rotação.\n",
    "\n"
   ]
  },
  {
   "cell_type": "code",
   "execution_count": 22,
   "id": "cd34ed29",
   "metadata": {},
   "outputs": [
    {
     "data": {
      "text/plain": [
       "build_csd_input_matrix (generic function with 1 method)"
      ]
     },
     "metadata": {},
     "output_type": "display_data"
    }
   ],
   "source": [
    "function build_csd_input_matrix(D1::Matrix{Float64}, D2::Matrix{Float64})\n",
    "    # D1: m × d (m amostras, d features) - dataset 1\n",
    "    # D2: n × d (n amostras, d features) - dataset 2\n",
    "\n",
    "    # Passo 1: QR dos transpostos (colunas de D1 e D2 como vetores base)\n",
    "    Q1, R1 = qr(D1')  \n",
    "    Q2, R2 = qr(D2') \n",
    "    \n",
    "    \n",
    "    if size(R1, 1) == size(R1, 2)\n",
    "        m= size(Q1, 1)\n",
    "        n = size(R1, 2)\n",
    "        R1_full = zeros(m, n)\n",
    "        R1_full[1:n, :] = R1\n",
    "    else\n",
    "        R1_full = R1\n",
    "    end\n",
    "    if size(R2, 1) == size(R2, 2)\n",
    "        m= size(Q2, 1)\n",
    "        n = size(R2, 2)\n",
    "        R2_full = zeros(m, n)\n",
    "        R2_full[1:n, :] = R2      \n",
    "    else\n",
    "        R2_full = R2  \n",
    "    end\n",
    "    \n",
    "\n",
    "    # Passo 2: Ortonormaliza a união dos subespaços de Q1 e Q2\n",
    "    Q_all, _ = qr([Q1 Q2])  # Q_all ∈ ℝ^{d × r}, com r ≤ m + n\n",
    "\n",
    "    # Passo 3: Projeta Q1 e Q2 no subespaço comum Q_all\n",
    "    A1 = Q_all' * Q1  # ∈ ℝ^{r × m}\n",
    "    A2 = Q_all' * Q2  # ∈ ℝ^{r × n}\n",
    "    \n",
    "    # Passo 4: Constrói a matriz A com blocos\n",
    "    top = hcat(A1, zeros(size(A1, 1), size(A2, 2)))    # [A1  0]\n",
    "    bottom = hcat(zeros(size(A2, 1), size(A1, 2)), A2)  # [0   A2]\n",
    "    A = vcat(top, bottom)  # ∈ ℝ^{2r × (m + n)}\n",
    "\n",
    "    return A, Q_all, R1_full, R2_full\n",
    "end"
   ]
  },
  {
   "cell_type": "code",
   "execution_count": 23,
   "id": "dae7a61e",
   "metadata": {},
   "outputs": [
    {
     "data": {
      "text/plain": [
       "rebuild_datasets_matrices (generic function with 1 method)"
      ]
     },
     "metadata": {},
     "output_type": "display_data"
    }
   ],
   "source": [
    "function rebuild_datasets_matrices(A, Q_all, R1, R2)\n",
    "    # A: matriz de entrada\n",
    "    # Q_all: base ortonormal comum\n",
    "    # R1: matriz triangular superior de D1\n",
    "    # R2: matriz triangular superior de D2\n",
    "\n",
    "    r = size(Q_all, 2)  # dimensão do subespaço comum\n",
    "\n",
    "    A1 = A[1:r, 1:size(R1, 1)] \n",
    "    D1_reconstructed = (Q_all * (A1' \\ R1))'\n",
    "   \n",
    "    A2 = A[r+1:end, end-size(R2,1)+1:end] \n",
    "    D2_reconstructed = (Q_all * (A2' \\ R2))'\n",
    "    \n",
    "    # D1_reconstructed: matriz reconstruída de D1\n",
    "    # D2_reconstructed: matriz reconstruída de D2\n",
    "\n",
    "    # Retorna as matrizes reconstruídas\n",
    "    return D1_reconstructed, D2_reconstructed\n",
    "    \n",
    "end"
   ]
  },
  {
   "cell_type": "code",
   "execution_count": 24,
   "id": "59dcf9f0",
   "metadata": {},
   "outputs": [
    {
     "data": {
      "text/plain": [
       "([1.0 -1.1102230246251565e-16 … 0.0 0.0; 0.0 1.0 … 0.0 0.0; … ; 0.0 0.0 … -0.19099734221678227 -0.7267037208312754; 0.0 0.0 … -0.6270100626694789 -0.07676959868876326], LinearAlgebra.QRCompactWYQ{Float64, Matrix{Float64}, Matrix{Float64}}([0.9999999999999999 -1.1102230246251565e-16 … 0.3471784511026196 -0.05939091769294497; -0.5886997453215905 1.0 … 0.06813636932443157 -0.03748939072276952; … ; 0.12235731176206453 0.26575198758088076 … -0.19099734221678227 -0.7267037208312754; 0.10095984524000944 0.129228559408898 … -0.6270100626694789 -0.07676959868876326], [1.330995000735619 1.2801181428214847 … -0.552965890998062 0.0; 5.0e-324 1.3423464281908373 … -1.0855196051990417 0.0; … ; 1.0e-323 1.264763357037e-311 … 1.8193668035037207 0.0; 3.0e-323 1.2647633570686e-311 … 1.14e-322 0.0]), [4.394276612692873 0.09493293943014769 … 0.08550792067234037 -1.3646694173393317; 0.0 2.8358965871693385 … 1.932039110018559 -1.0590843407290778; … ; 0.0 0.0 … 0.0 1.8498059026198155; 0.0 0.0 … 0.0 0.0], [-2.10795854167753 -0.2425016278033097 … -0.5614969921374615 -0.2654975098890584; 0.0 1.9590850124261119 … 0.5821165044017644 -1.473841223340888; … ; 0.0 0.0 … 0.35196054760063233 -1.1984265628646649; 0.0 0.0 … 2.5585323746913837 0.9877171503076116])"
      ]
     },
     "metadata": {},
     "output_type": "display_data"
    }
   ],
   "source": [
    "# Exemplo com dados aleatórios\n",
    "m = 5  # amostras de D1\n",
    "n = 7  # amostras de D2\n",
    "d = 6  # número de features\n",
    "\n",
    "D1 = randn(m, d)  # dataset 1\n",
    "D2 = randn(n, d)  # dataset 2\n",
    "\n",
    "A, Q_all, R1, R2 = build_csd_input_matrix(D1, D2)"
   ]
  },
  {
   "cell_type": "code",
   "execution_count": 25,
   "id": "7eaecc7e",
   "metadata": {},
   "outputs": [
    {
     "data": {
      "text/plain": [
       "12×12 Matrix{Float64}:\n",
       "  1.0          -1.11022e-16  …   0.0         0.0         0.0\n",
       "  0.0           1.0              0.0         0.0         0.0\n",
       "  5.55112e-17  -1.11022e-16      0.0         0.0         0.0\n",
       "  1.11022e-16  -6.15827e-17      0.0         0.0         0.0\n",
       " -1.38778e-16   1.11022e-16      0.0         0.0         0.0\n",
       "  1.94289e-16  -2.77556e-17  …   0.0         0.0         0.0\n",
       "  0.0           0.0             -0.728578    0.347178   -0.0593909\n",
       "  0.0           0.0             -0.25649     0.0681364  -0.0374894\n",
       "  0.0           0.0              0.520358    0.268788    0.480606\n",
       "  0.0           0.0             -0.279951   -0.610701    0.47968\n",
       "  0.0           0.0          …   0.232809   -0.190997   -0.726704\n",
       "  0.0           0.0             -0.0064693  -0.62701    -0.0767696"
      ]
     },
     "metadata": {},
     "output_type": "display_data"
    }
   ],
   "source": [
    "# Exibir a matriz A\n",
    "display(A)"
   ]
  },
  {
   "cell_type": "code",
   "execution_count": 26,
   "id": "2167c2bf",
   "metadata": {},
   "outputs": [
    {
     "name": "stdout",
     "output_type": "stream",
     "text": [
      "A matriz A é ortonormal\n"
     ]
    }
   ],
   "source": [
    "if A'*A ≈ I\n",
    "    println(\"A matriz A é ortonormal\")\n",
    "else\n",
    "    println(\"A matriz A não é ortonormal\")\n",
    "    \n",
    "end"
   ]
  },
  {
   "cell_type": "code",
   "execution_count": 27,
   "id": "b0d7d908",
   "metadata": {},
   "outputs": [
    {
     "name": "stdout",
     "output_type": "stream",
     "text": [
      "As matrizes reconstruídas são equivalentes às originais!\n"
     ]
    }
   ],
   "source": [
    "D1_reconstructed, D2_reconstructed = rebuild_datasets_matrices(A, Q_all, R1, R2)\n",
    "\n",
    "if D1_reconstructed ≈ D1 && D2_reconstructed ≈ D2\n",
    "    println(\"As matrizes reconstruídas são equivalentes às originais!\")\n",
    "else\n",
    "    println(\"As matrizes reconstruídas NÃO são equivalentes às originais.\")\n",
    "    \n",
    "end"
   ]
  },
  {
   "cell_type": "code",
   "execution_count": 49,
   "id": "40702150",
   "metadata": {},
   "outputs": [
    {
     "data": {
      "text/plain": [
       "load_images_as_dataset (generic function with 1 method)"
      ]
     },
     "metadata": {},
     "output_type": "display_data"
    }
   ],
   "source": [
    "function load_images_as_dataset(folder_path::String)\n",
    "    # Lista todos os arquivos JPEG na pasta\n",
    "    image_paths = Glob.glob(\"*.jpg\", folder_path)  # ou \"*.jpeg\"\n",
    "    num_images = length(image_paths)\n",
    "\n",
    "    if num_images == 0\n",
    "        error(\"Nenhuma imagem encontrada na pasta.\")\n",
    "    end\n",
    "    \n",
    "    # Carrega uma imagem para obter dimensões\n",
    "    img_sample = load(image_paths[1])\n",
    "    img_gray = Gray.(img_sample)  # Converte cada pixel RGB para Gray\n",
    "    println(size(img_gray))\n",
    "    h, w = size(img_gray)\n",
    "    \n",
    "    println(\"Dimensões da imagem: $h x $w\")\n",
    "\n",
    "    # Inicializa matriz dataset\n",
    "    dataset = zeros(Float64, num_images, h * w)\n",
    "\n",
    "    for (i, path) in enumerate(image_paths)\n",
    "        img = load(path)\n",
    "        img_gray = Gray.(img)  # Converte cada pixel RGB para Gray\n",
    "        dataset[i, :] = vec(img_gray)  # achata e insere como linha\n",
    "    end\n",
    "\n",
    "    return dataset\n",
    "end\n"
   ]
  },
  {
   "cell_type": "code",
   "execution_count": 50,
   "id": "491c4e39",
   "metadata": {},
   "outputs": [
    {
     "name": "stdout",
     "output_type": "stream",
     "text": [
      "(224, 224)\n",
      "Dimensões da imagem: 224 x 224\n"
     ]
    },
    {
     "data": {
      "text/plain": [
       "(181, 50176)"
      ]
     },
     "metadata": {},
     "output_type": "display_data"
    }
   ],
   "source": [
    "#\"D:\\Docs matheus\\UFRJ\\7-Setimo Periodo\\Alg. Lininear Aplicada\\Trabalho final\\CSD of subspaces\\ace of spades\"\n",
    "\n",
    "folder = raw\"D:\\Docs matheus\\UFRJ\\7-Setimo Periodo\\Alg. Lininear Aplicada\\Trabalho final\\CSD of subspaces\\ace of spades\"\n",
    "X = load_images_as_dataset(folder)\n",
    "size(X)  # ex: (100, 50176) se houver 100 imagens\n"
   ]
  },
  {
   "cell_type": "code",
   "execution_count": 51,
   "id": "61b851ca",
   "metadata": {},
   "outputs": [
    {
     "data": {
      "text/plain": [
       "181×50176 Matrix{Float64}:\n",
       " 0.996078    1.0         1.0         …  0.988235   1.0        1.0\n",
       " 0.996078    0.996078    0.996078       1.0        0.996078   1.0\n",
       " 0.286275    0.172549    0.270588       0.223529   0.121569   0.117647\n",
       " 0.843137    0.85098     0.854902       0.847059   0.847059   0.862745\n",
       " 0.996078    1.0         0.988235       0.988235   0.996078   0.996078\n",
       " 0.996078    1.0         0.996078    …  0.0588235  0.0588235  0.0705882\n",
       " 0.968627    0.94902     0.937255       0.65098    0.6        0.560784\n",
       " 0.00784314  0.00784314  0.00784314     0.780392   0.854902   0.894118\n",
       " 0.403922    0.423529    0.415686       0.466667   0.470588   0.454902\n",
       " 0.443137    0.458824    0.490196       0.243137   0.239216   0.215686\n",
       " ⋮                                   ⋱                        ⋮\n",
       " 0.541176    0.545098    0.545098       0.490196   0.482353   0.47451\n",
       " 0.576471    0.392157    0.180392       0.32549    0.278431   0.262745\n",
       " 0.921569    0.94902     1.0            0.941176   0.898039   0.854902\n",
       " 1.0         0.996078    0.996078    …  0.968627   0.988235   1.0\n",
       " 0.760784    0.392157    0.0627451      0.870588   0.913725   0.952941\n",
       " 0.803922    0.831373    0.866667       0.988235   0.992157   0.996078\n",
       " 0.976471    0.976471    0.933333       0.964706   0.956863   0.992157\n",
       " 0.980392    1.0         0.980392       0.929412   0.984314   0.996078\n",
       " 0.996078    0.996078    0.988235    …  0.992157   1.0        1.0"
      ]
     },
     "metadata": {},
     "output_type": "display_data"
    }
   ],
   "source": [
    "X"
   ]
  }
 ],
 "metadata": {
  "kernelspec": {
   "display_name": "Julia 1.10.2",
   "language": "julia",
   "name": "julia-1.10"
  },
  "language_info": {
   "file_extension": ".jl",
   "mimetype": "application/julia",
   "name": "julia",
   "version": "1.10.2"
  }
 },
 "nbformat": 4,
 "nbformat_minor": 5
}
